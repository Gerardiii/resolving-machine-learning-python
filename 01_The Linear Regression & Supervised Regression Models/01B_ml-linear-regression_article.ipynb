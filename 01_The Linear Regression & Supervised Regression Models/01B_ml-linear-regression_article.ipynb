{
 "cells": [
  {
   "cell_type": "markdown",
   "id": "98c85215-138a-46f3-a45c-550397956605",
   "metadata": {},
   "source": [
    "**© Jesús López 2022**\n",
    "\n",
    "Ask him any doubt on **[Twitter](https://twitter.com/jsulopzs)** or **[LinkedIn](https://linkedin.com/in/jsulopzs)**"
   ]
  },
  {
   "cell_type": "markdown",
   "id": "5d22bcb0-37ed-4c47-ab23-e06d7ba1356e",
   "metadata": {},
   "source": [
    "# #01 | Linear Regression: A Supervised Regression Model"
   ]
  },
  {
   "cell_type": "markdown",
   "id": "29d53b77-f1fc-4e41-b854-3ec9a08184c1",
   "metadata": {},
   "source": [
    "## Chapter Importance"
   ]
  },
  {
   "cell_type": "markdown",
   "id": "01fec404-2170-4218-80d8-e664489a3940",
   "metadata": {},
   "source": [
    "Machine Learning is all about calculating [the best numbers](https://twitter.com/sotastica/status/1449735653328031745) of a mathematical equation by [minimizing the distance between real data and predictions](https://www.youtube.com/watch?v=Ht3rYS-JilE).\n",
    "\n",
    "The form of a Linear Regression mathematical equation is as follows:\n",
    "\n",
    "$$\n",
    "y = (a) + (b) \\cdot x\n",
    "$$\n",
    "\n",
    "As we see in the following plot, **not any mathematical equation is valid**; the red line doesn't fit the real data (blue points) as well as the green one.\n",
    "\n",
    "<center>\n",
    "<img src=\"src/linear-regression.jpeg\" width=\"400\" align=\"center\">\n",
    "</center>\n",
    "\n",
    "How do we understand the development of Machine Learning models in Python **to predict what may happen in the future**?\n",
    "\n",
    "This tutorial covers the topics described below using **USA Car Crashes data** to predict the accidents based on alcohol.\n",
    "\n",
    "1. Step by step procedure to compute a Linear Regression:\n",
    "    1. `.fit()` the numbers of the mathematical equation\n",
    "    2. `.predict()` the future with the mathematical equation\n",
    "    3. `.score()` how good is the mathematical equation\n",
    "2. How to **visualize** the Linear Regression model?\n",
    "3. How to **evaluate** Regression models step by step?\n",
    "    - Residuals Sum of Squares\n",
    "    - Total Sum of Squares\n",
    "    - R Squared Ratio $R^2$\n",
    "4. How to **interpret** the coeficients of the Linear Regression?\n",
    "5. Compare the Linear Regression to other Machine Learning models such as:\n",
    "    - Random Forest\n",
    "    - Support Vector Machines\n",
    "6. Why **we don't need to know the maths** behind every model to apply Machine Learning in Python?"
   ]
  },
  {
   "cell_type": "markdown",
   "id": "0886110c-bd13-4532-8265-15cf62338680",
   "metadata": {},
   "source": [
    "## Load the Data"
   ]
  },
  {
   "cell_type": "markdown",
   "id": "b4eb8114-efe0-4a23-afa1-d288ed35d6db",
   "metadata": {},
   "source": [
    "- This dataset contains **statistics about Car Accidents** (columns)\n",
    "- In each one of **USA States** (rows)"
   ]
  },
  {
   "cell_type": "markdown",
   "id": "f8b253f1-cafb-40d4-aed2-2bc93acd837e",
   "metadata": {},
   "source": [
    "Visit [this website](https://www.kaggle.com/fivethirtyeight/fivethirtyeight-bad-drivers-dataset/) if you want to know the measures of the columns."
   ]
  },
  {
   "cell_type": "code",
   "execution_count": 183,
   "id": "aaaae16b-3d9e-4dd9-8f59-d05c1381df36",
   "metadata": {},
   "outputs": [
    {
     "data": {
      "text/html": [
       "<div>\n",
       "<style scoped>\n",
       "    .dataframe tbody tr th:only-of-type {\n",
       "        vertical-align: middle;\n",
       "    }\n",
       "\n",
       "    .dataframe tbody tr th {\n",
       "        vertical-align: top;\n",
       "    }\n",
       "\n",
       "    .dataframe thead th {\n",
       "        text-align: right;\n",
       "    }\n",
       "</style>\n",
       "<table border=\"1\" class=\"dataframe\">\n",
       "  <thead>\n",
       "    <tr style=\"text-align: right;\">\n",
       "      <th></th>\n",
       "      <th>alcohol</th>\n",
       "      <th>accidents</th>\n",
       "    </tr>\n",
       "    <tr>\n",
       "      <th>abbrev</th>\n",
       "      <th></th>\n",
       "      <th></th>\n",
       "    </tr>\n",
       "  </thead>\n",
       "  <tbody>\n",
       "    <tr>\n",
       "      <th>AL</th>\n",
       "      <td>5.640</td>\n",
       "      <td>18.8</td>\n",
       "    </tr>\n",
       "    <tr>\n",
       "      <th>AK</th>\n",
       "      <td>4.525</td>\n",
       "      <td>18.1</td>\n",
       "    </tr>\n",
       "    <tr>\n",
       "      <th>...</th>\n",
       "      <td>...</td>\n",
       "      <td>...</td>\n",
       "    </tr>\n",
       "    <tr>\n",
       "      <th>WI</th>\n",
       "      <td>4.554</td>\n",
       "      <td>13.8</td>\n",
       "    </tr>\n",
       "    <tr>\n",
       "      <th>WY</th>\n",
       "      <td>5.568</td>\n",
       "      <td>17.4</td>\n",
       "    </tr>\n",
       "  </tbody>\n",
       "</table>\n",
       "<p>51 rows × 2 columns</p>\n",
       "</div>"
      ],
      "text/plain": [
       "        alcohol  accidents\n",
       "abbrev                    \n",
       "AL        5.640       18.8\n",
       "AK        4.525       18.1\n",
       "...         ...        ...\n",
       "WI        4.554       13.8\n",
       "WY        5.568       17.4\n",
       "\n",
       "[51 rows x 2 columns]"
      ]
     },
     "execution_count": 183,
     "metadata": {},
     "output_type": "execute_result"
    }
   ],
   "source": [
    "import seaborn as sns #!\n",
    "\n",
    "df_crashes = sns.load_dataset(name='car_crashes', index_col='abbrev')[['alcohol', 'total']]\n",
    "df_crashes.rename({'total': 'accidents'}, axis=1, inplace=True)\n",
    "df_crashes"
   ]
  },
  {
   "cell_type": "markdown",
   "id": "1f5d325b-bfd0-4e7f-9ca7-46ecfb47f168",
   "metadata": {},
   "source": [
    "## How do we compute a Linear Regression Model in Python?"
   ]
  },
  {
   "cell_type": "markdown",
   "id": "3e1d4c8b-39d8-4147-92b4-835f8a5e5095",
   "metadata": {},
   "source": [
    "- As always, we need to use a function\n",
    "\n",
    "Where is the function?\n",
    "\n",
    "- It should be in a library\n",
    "\n",
    "Which is the Python library for Machine Learning?\n",
    "\n",
    "- Sci-Kit Learn, see [website](https://scikit-learn.org/stable/)"
   ]
  },
  {
   "cell_type": "markdown",
   "id": "ed61845c-8a37-4d66-b4a5-faf7b61e37fd",
   "metadata": {},
   "source": [
    "### Import the Class"
   ]
  },
  {
   "cell_type": "markdown",
   "id": "5d10c3f0-9fac-4262-84da-b16fc45d5d56",
   "metadata": {},
   "source": [
    "How can we access the function to compute a Linear Regression model?\n",
    "\n",
    "- We need to import the `LinearRegression` class within `linear_model` module:"
   ]
  },
  {
   "cell_type": "code",
   "execution_count": 184,
   "id": "14348295-be01-449b-89fc-617a54565397",
   "metadata": {},
   "outputs": [],
   "source": [
    "from sklearn.linear_model import LinearRegression"
   ]
  },
  {
   "cell_type": "markdown",
   "id": "fb46a348-84eb-4618-adca-bcc3f2082cd9",
   "metadata": {},
   "source": [
    "### Instantiante the Class"
   ]
  },
  {
   "cell_type": "markdown",
   "id": "474253f1-6b71-46d4-8ef6-387f453776f6",
   "metadata": {},
   "source": [
    "- Now we create an instance `model_lr` of the class `LinearRegression`:"
   ]
  },
  {
   "cell_type": "code",
   "execution_count": 185,
   "id": "b2dd7d01-19e2-4559-aca1-fbc79832481b",
   "metadata": {},
   "outputs": [],
   "source": [
    "model_lr = LinearRegression()"
   ]
  },
  {
   "cell_type": "markdown",
   "id": "e7c72c07-8f31-4415-95ac-2672947d4e9c",
   "metadata": {},
   "source": [
    "### Fit the Model"
   ]
  },
  {
   "cell_type": "markdown",
   "id": "59de6f20-6eae-46df-86ca-901c98572353",
   "metadata": {},
   "source": [
    "Which is the funtion that applies the Linear Regression **algorithm** in which the **Residual Sum of Squares is minimised**?"
   ]
  },
  {
   "cell_type": "code",
   "execution_count": 186,
   "id": "a2ae856b-5b51-46c4-9228-86ab98f85ae2",
   "metadata": {},
   "outputs": [
    {
     "ename": "TypeError",
     "evalue": "fit() missing 2 required positional arguments: 'X' and 'y'",
     "output_type": "error",
     "traceback": [
      "\u001b[0;31m---------------------------------------------------------------------------\u001b[0m",
      "\u001b[0;31mTypeError\u001b[0m                                 Traceback (most recent call last)",
      "Input \u001b[0;32mIn [186]\u001b[0m, in \u001b[0;36m<cell line: 1>\u001b[0;34m()\u001b[0m\n\u001b[0;32m----> 1\u001b[0m \u001b[43mmodel_lr\u001b[49m\u001b[38;5;241;43m.\u001b[39;49m\u001b[43mfit\u001b[49m\u001b[43m(\u001b[49m\u001b[43m)\u001b[49m\n",
      "\u001b[0;31mTypeError\u001b[0m: fit() missing 2 required positional arguments: 'X' and 'y'"
     ]
    }
   ],
   "source": [
    "model_lr.fit()"
   ]
  },
  {
   "cell_type": "markdown",
   "id": "16ad74a0-5892-48ea-8652-b200137590b9",
   "metadata": {},
   "source": [
    "Why is it asking for two parameters: `y` and `X`?\n",
    "\n",
    "The algorithm needs to distinguish between the variable we would like to predict (`y`) and the variables used to explain (`X`) the prediction.\n",
    "\n",
    "- `y`: target ~ independent ~ label ~ class variable\n",
    "- `X`: features ~ dependent ~ explanatory variables"
   ]
  },
  {
   "cell_type": "markdown",
   "id": "1a414be2-c143-4833-a390-7898cb3383e9",
   "metadata": {},
   "source": [
    "### Separate the Variables"
   ]
  },
  {
   "cell_type": "code",
   "execution_count": 187,
   "id": "4529d58e-151b-44f1-91d1-b0a4970a9584",
   "metadata": {},
   "outputs": [],
   "source": [
    "target = df_crashes['accidents']\n",
    "features = df_crashes[['alcohol']]"
   ]
  },
  {
   "cell_type": "markdown",
   "id": "e4edc6e9-e441-4168-a165-e618f873646d",
   "metadata": {},
   "source": [
    "### Fit the Model Again"
   ]
  },
  {
   "cell_type": "code",
   "execution_count": 188,
   "id": "850948a3-8769-47a1-abc3-a4167e3cb552",
   "metadata": {},
   "outputs": [
    {
     "data": {
      "text/plain": [
       "LinearRegression()"
      ]
     },
     "execution_count": 188,
     "metadata": {},
     "output_type": "execute_result"
    }
   ],
   "source": [
    "model_lr.fit(X=features, y=target)"
   ]
  },
  {
   "cell_type": "markdown",
   "id": "77e106e6-b248-4538-8fb6-d2b051578399",
   "metadata": {},
   "source": [
    "### Predictions"
   ]
  },
  {
   "cell_type": "markdown",
   "id": "3a807976-47c4-447f-97f8-bef99d68ec09",
   "metadata": {},
   "source": [
    "#### Calculate the Predictions"
   ]
  },
  {
   "cell_type": "markdown",
   "id": "de8c5da0-439d-45f2-875a-d8569c39e67e",
   "metadata": {},
   "source": [
    "Take the historical data:"
   ]
  },
  {
   "cell_type": "code",
   "execution_count": 189,
   "id": "e23b64c3-b448-496b-9132-740ce4a8a6a1",
   "metadata": {},
   "outputs": [
    {
     "data": {
      "text/html": [
       "<div>\n",
       "<style scoped>\n",
       "    .dataframe tbody tr th:only-of-type {\n",
       "        vertical-align: middle;\n",
       "    }\n",
       "\n",
       "    .dataframe tbody tr th {\n",
       "        vertical-align: top;\n",
       "    }\n",
       "\n",
       "    .dataframe thead th {\n",
       "        text-align: right;\n",
       "    }\n",
       "</style>\n",
       "<table border=\"1\" class=\"dataframe\">\n",
       "  <thead>\n",
       "    <tr style=\"text-align: right;\">\n",
       "      <th></th>\n",
       "      <th>alcohol</th>\n",
       "    </tr>\n",
       "    <tr>\n",
       "      <th>abbrev</th>\n",
       "      <th></th>\n",
       "    </tr>\n",
       "  </thead>\n",
       "  <tbody>\n",
       "    <tr>\n",
       "      <th>AL</th>\n",
       "      <td>5.640</td>\n",
       "    </tr>\n",
       "    <tr>\n",
       "      <th>AK</th>\n",
       "      <td>4.525</td>\n",
       "    </tr>\n",
       "    <tr>\n",
       "      <th>...</th>\n",
       "      <td>...</td>\n",
       "    </tr>\n",
       "    <tr>\n",
       "      <th>WI</th>\n",
       "      <td>4.554</td>\n",
       "    </tr>\n",
       "    <tr>\n",
       "      <th>WY</th>\n",
       "      <td>5.568</td>\n",
       "    </tr>\n",
       "  </tbody>\n",
       "</table>\n",
       "<p>51 rows × 1 columns</p>\n",
       "</div>"
      ],
      "text/plain": [
       "        alcohol\n",
       "abbrev         \n",
       "AL        5.640\n",
       "AK        4.525\n",
       "...         ...\n",
       "WI        4.554\n",
       "WY        5.568\n",
       "\n",
       "[51 rows x 1 columns]"
      ]
     },
     "execution_count": 189,
     "metadata": {},
     "output_type": "execute_result"
    }
   ],
   "source": [
    "features"
   ]
  },
  {
   "cell_type": "markdown",
   "id": "b57f4589-e75b-44b4-996b-5e05dea32a25",
   "metadata": {},
   "source": [
    "To calculate predictions through the Model's Mathematical Equation:"
   ]
  },
  {
   "cell_type": "code",
   "execution_count": 190,
   "id": "06cd485d-53c7-466d-91c7-dfbfe214c381",
   "metadata": {},
   "outputs": [
    {
     "data": {
      "text/plain": [
       "array([17.32111171, 15.05486718, 16.44306899, 17.69509287, 12.68699734,\n",
       "       13.59756016, 13.76016066, 15.73575679,  9.0955587 , 16.40851638,\n",
       "       13.78455074, 20.44100889, 14.87600663, 14.70324359, 14.40446516,\n",
       "       13.8353634 , 14.54064309, 15.86177218, 19.6076813 , 15.06502971,\n",
       "       13.98780137, 11.69106925, 13.88211104, 11.5162737 , 16.94713055,\n",
       "       16.98371566, 24.99585551, 16.45729653, 15.41868581, 12.93089809,\n",
       "       12.23171592, 15.95526747, 13.10772614, 16.44306899, 26.26007443,\n",
       "       15.60161138, 17.58737003, 12.62195713, 17.32517672, 14.43088774,\n",
       "       25.77430543, 18.86988151, 17.3515993 , 20.84141263,  9.53254755,\n",
       "       14.15040187, 12.82724027, 12.96748321, 19.40239816, 15.11380986,\n",
       "       17.17477126])"
      ]
     },
     "execution_count": 190,
     "metadata": {},
     "output_type": "execute_result"
    }
   ],
   "source": [
    "model_lr.predict(X=features)"
   ]
  },
  {
   "cell_type": "markdown",
   "id": "b65f3aa0-10f7-4627-80dd-93217751fe65",
   "metadata": {},
   "source": [
    "#### Add a New Column with the Predictions"
   ]
  },
  {
   "cell_type": "markdown",
   "id": "e26f630b-3163-47cd-9bab-fb830aab89c5",
   "metadata": {},
   "source": [
    "Can you see the difference between the reality and the prediction?\n",
    "\n",
    "- Model predictions aren't perfect; they don't exactly predict the real data. Nevertheless, they make a fair approximation that allows decision makers have a better understanding of the future."
   ]
  },
  {
   "cell_type": "code",
   "execution_count": 191,
   "id": "401f6efd-9fd5-4d60-8078-ab674b47362b",
   "metadata": {},
   "outputs": [
    {
     "data": {
      "text/html": [
       "<div>\n",
       "<style scoped>\n",
       "    .dataframe tbody tr th:only-of-type {\n",
       "        vertical-align: middle;\n",
       "    }\n",
       "\n",
       "    .dataframe tbody tr th {\n",
       "        vertical-align: top;\n",
       "    }\n",
       "\n",
       "    .dataframe thead th {\n",
       "        text-align: right;\n",
       "    }\n",
       "</style>\n",
       "<table border=\"1\" class=\"dataframe\">\n",
       "  <thead>\n",
       "    <tr style=\"text-align: right;\">\n",
       "      <th></th>\n",
       "      <th>alcohol</th>\n",
       "      <th>accidents</th>\n",
       "      <th>pred_lr</th>\n",
       "    </tr>\n",
       "    <tr>\n",
       "      <th>abbrev</th>\n",
       "      <th></th>\n",
       "      <th></th>\n",
       "      <th></th>\n",
       "    </tr>\n",
       "  </thead>\n",
       "  <tbody>\n",
       "    <tr>\n",
       "      <th>AL</th>\n",
       "      <td>5.640</td>\n",
       "      <td>18.8</td>\n",
       "      <td>17.321112</td>\n",
       "    </tr>\n",
       "    <tr>\n",
       "      <th>AK</th>\n",
       "      <td>4.525</td>\n",
       "      <td>18.1</td>\n",
       "      <td>15.054867</td>\n",
       "    </tr>\n",
       "    <tr>\n",
       "      <th>...</th>\n",
       "      <td>...</td>\n",
       "      <td>...</td>\n",
       "      <td>...</td>\n",
       "    </tr>\n",
       "    <tr>\n",
       "      <th>WI</th>\n",
       "      <td>4.554</td>\n",
       "      <td>13.8</td>\n",
       "      <td>15.113810</td>\n",
       "    </tr>\n",
       "    <tr>\n",
       "      <th>WY</th>\n",
       "      <td>5.568</td>\n",
       "      <td>17.4</td>\n",
       "      <td>17.174771</td>\n",
       "    </tr>\n",
       "  </tbody>\n",
       "</table>\n",
       "<p>51 rows × 3 columns</p>\n",
       "</div>"
      ],
      "text/plain": [
       "        alcohol  accidents    pred_lr\n",
       "abbrev                               \n",
       "AL        5.640       18.8  17.321112\n",
       "AK        4.525       18.1  15.054867\n",
       "...         ...        ...        ...\n",
       "WI        4.554       13.8  15.113810\n",
       "WY        5.568       17.4  17.174771\n",
       "\n",
       "[51 rows x 3 columns]"
      ]
     },
     "execution_count": 191,
     "metadata": {},
     "output_type": "execute_result"
    }
   ],
   "source": [
    "df_crashes['pred_lr'] = model_lr.predict(X=features)\n",
    "df_crashes"
   ]
  },
  {
   "cell_type": "markdown",
   "id": "5b9b9d33-e95e-4fac-96e6-12e93ea3733a",
   "metadata": {},
   "source": [
    "### Model Visualization"
   ]
  },
  {
   "cell_type": "markdown",
   "id": "924ea66a-4380-4c8b-b8d5-5d136e9444bf",
   "metadata": {},
   "source": [
    "The orange dots reference the predictions, which are lined up in a line because the Linear Regression model calculates the best coefficients (numbers) for a line's mathematical equation based on historical data."
   ]
  },
  {
   "cell_type": "code",
   "execution_count": 193,
   "id": "0bfbd75f-5c30-43fd-9e2c-56073e9d592c",
   "metadata": {},
   "outputs": [],
   "source": [
    "import matplotlib.pyplot as plt"
   ]
  },
  {
   "cell_type": "code",
   "execution_count": 195,
   "id": "f7dd7284-5d71-428b-a52e-83bc5192433d",
   "metadata": {},
   "outputs": [
    {
     "data": {
      "image/png": "[encoded data removed]",
      "text/plain": [
       "<Figure size 432x288 with 1 Axes>"
      ]
     },
     "metadata": {
      "needs_background": "light"
     },
     "output_type": "display_data"
    }
   ],
   "source": [
    "sns.scatterplot(x='alcohol', y='accidents', data=df_crashes)\n",
    "sns.scatterplot(x='alcohol', y='pred_lr', data=df_crashes);"
   ]
  },
  {
   "cell_type": "markdown",
   "id": "ab18c0fb-7b13-4c17-aeaa-657aa7df61e5",
   "metadata": {},
   "source": [
    "We have got orange dots for the alcohol represented in our `DataFrame`. Were we to make estimations about all possible alcohol numbers, we'd get a **sequence of consecutive points** which represented a line. Let's draw it with `.lineplot()` function:"
   ]
  },
  {
   "cell_type": "code",
   "execution_count": 149,
   "id": "6f1c0143-4c44-43bd-8b15-ffd4f6710f51",
   "metadata": {},
   "outputs": [
    {
     "data": {
      "image/png": "[encoded data removed]",
      "text/plain": [
       "<Figure size 432x288 with 1 Axes>"
      ]
     },
     "metadata": {
      "needs_background": "light"
     },
     "output_type": "display_data"
    }
   ],
   "source": [
    "sns.scatterplot(x='alcohol', y='accidents', data=df_crashes)\n",
    "sns.scatterplot(x='alcohol', y='pred_lr', data=df_crashes);\n",
    "sns.lineplot(x='alcohol', y='pred_lr', data=df_crashes, color='orange');"
   ]
  },
  {
   "cell_type": "markdown",
   "id": "cf79e511-728b-459c-8ca1-b25f10b910ec",
   "metadata": {},
   "source": [
    "### Model's Score"
   ]
  },
  {
   "cell_type": "markdown",
   "id": "514717f6-c5fb-4720-95c8-f308b1f38304",
   "metadata": {},
   "source": [
    "#### Calculate the Score"
   ]
  },
  {
   "cell_type": "markdown",
   "id": "dbe8c580-d181-409e-bf5a-a79539578bb5",
   "metadata": {},
   "source": [
    "In order to measure the quality of the model, we use the `.score()` function to propperly calculate the difference between the model's predictions and reality."
   ]
  },
  {
   "cell_type": "code",
   "execution_count": 197,
   "id": "c29a8ead-9765-4efc-b80b-b618a8b5867a",
   "metadata": {},
   "outputs": [
    {
     "data": {
      "text/plain": [
       "0.7269492966665405"
      ]
     },
     "execution_count": 197,
     "metadata": {},
     "output_type": "execute_result"
    }
   ],
   "source": [
    "model_lr.score(X=features, y=target)"
   ]
  },
  {
   "cell_type": "markdown",
   "id": "bd29820e-c71d-4105-921f-85c0962db1c9",
   "metadata": {},
   "source": [
    "#### Explain the Score"
   ]
  },
  {
   "cell_type": "markdown",
   "id": "c5ee5345-c3df-4ff7-9632-c0508b1496a9",
   "metadata": {},
   "source": [
    "##### Residuals"
   ]
  },
  {
   "cell_type": "markdown",
   "id": "3a9cfda9-16e3-4070-9da1-6459519349ad",
   "metadata": {},
   "source": [
    "The step-by-step procedure of the previous calculation starts with the difference between reality and predictions:"
   ]
  },
  {
   "cell_type": "code",
   "execution_count": 198,
   "id": "309cf875-3f2a-4f77-9071-0ead02bd82a3",
   "metadata": {},
   "outputs": [
    {
     "data": {
      "text/plain": [
       "abbrev\n",
       "AL    1.478888\n",
       "AK    3.045133\n",
       "        ...   \n",
       "WI   -1.313810\n",
       "WY    0.225229\n",
       "Length: 51, dtype: float64"
      ]
     },
     "execution_count": 198,
     "metadata": {},
     "output_type": "execute_result"
    }
   ],
   "source": [
    "df_crashes['accidents'] - df_crashes['pred_lr']"
   ]
  },
  {
   "cell_type": "markdown",
   "id": "ffc048d0-b408-449a-a63c-8c37b63915e2",
   "metadata": {},
   "source": [
    "This difference is usually called **residuals**:"
   ]
  },
  {
   "cell_type": "code",
   "execution_count": 199,
   "id": "a7818832-f808-4cd6-9a06-6cc663324aca",
   "metadata": {},
   "outputs": [
    {
     "data": {
      "text/html": [
       "<div>\n",
       "<style scoped>\n",
       "    .dataframe tbody tr th:only-of-type {\n",
       "        vertical-align: middle;\n",
       "    }\n",
       "\n",
       "    .dataframe tbody tr th {\n",
       "        vertical-align: top;\n",
       "    }\n",
       "\n",
       "    .dataframe thead th {\n",
       "        text-align: right;\n",
       "    }\n",
       "</style>\n",
       "<table border=\"1\" class=\"dataframe\">\n",
       "  <thead>\n",
       "    <tr style=\"text-align: right;\">\n",
       "      <th></th>\n",
       "      <th>alcohol</th>\n",
       "      <th>accidents</th>\n",
       "      <th>pred_lr</th>\n",
       "      <th>residuals</th>\n",
       "    </tr>\n",
       "    <tr>\n",
       "      <th>abbrev</th>\n",
       "      <th></th>\n",
       "      <th></th>\n",
       "      <th></th>\n",
       "      <th></th>\n",
       "    </tr>\n",
       "  </thead>\n",
       "  <tbody>\n",
       "    <tr>\n",
       "      <th>AL</th>\n",
       "      <td>5.640</td>\n",
       "      <td>18.8</td>\n",
       "      <td>17.321112</td>\n",
       "      <td>1.478888</td>\n",
       "    </tr>\n",
       "    <tr>\n",
       "      <th>AK</th>\n",
       "      <td>4.525</td>\n",
       "      <td>18.1</td>\n",
       "      <td>15.054867</td>\n",
       "      <td>3.045133</td>\n",
       "    </tr>\n",
       "    <tr>\n",
       "      <th>...</th>\n",
       "      <td>...</td>\n",
       "      <td>...</td>\n",
       "      <td>...</td>\n",
       "      <td>...</td>\n",
       "    </tr>\n",
       "    <tr>\n",
       "      <th>WI</th>\n",
       "      <td>4.554</td>\n",
       "      <td>13.8</td>\n",
       "      <td>15.113810</td>\n",
       "      <td>-1.313810</td>\n",
       "    </tr>\n",
       "    <tr>\n",
       "      <th>WY</th>\n",
       "      <td>5.568</td>\n",
       "      <td>17.4</td>\n",
       "      <td>17.174771</td>\n",
       "      <td>0.225229</td>\n",
       "    </tr>\n",
       "  </tbody>\n",
       "</table>\n",
       "<p>51 rows × 4 columns</p>\n",
       "</div>"
      ],
      "text/plain": [
       "        alcohol  accidents    pred_lr  residuals\n",
       "abbrev                                          \n",
       "AL        5.640       18.8  17.321112   1.478888\n",
       "AK        4.525       18.1  15.054867   3.045133\n",
       "...         ...        ...        ...        ...\n",
       "WI        4.554       13.8  15.113810  -1.313810\n",
       "WY        5.568       17.4  17.174771   0.225229\n",
       "\n",
       "[51 rows x 4 columns]"
      ]
     },
     "execution_count": 199,
     "metadata": {},
     "output_type": "execute_result"
    }
   ],
   "source": [
    "df_crashes['residuals'] = df_crashes['accidents'] - df_crashes['pred_lr']\n",
    "df_crashes"
   ]
  },
  {
   "cell_type": "markdown",
   "id": "a7e2ef06-d816-47e7-837a-a45b576b9764",
   "metadata": {},
   "source": [
    "We cannot use all the residuals to tell how good our model is. Therefore, we need to add them up:"
   ]
  },
  {
   "cell_type": "code",
   "execution_count": 200,
   "id": "48af96b0-7801-4d9a-9422-809795eabe74",
   "metadata": {},
   "outputs": [
    {
     "data": {
      "text/plain": [
       "1.4033219031261979e-13"
      ]
     },
     "execution_count": 200,
     "metadata": {},
     "output_type": "execute_result"
    }
   ],
   "source": [
    "df_crashes.residuals.sum()"
   ]
  },
  {
   "cell_type": "markdown",
   "id": "77245f26-856f-47df-8740-7f596a287404",
   "metadata": {},
   "source": [
    "Let's round to two decimal points to supress the scientific notation:"
   ]
  },
  {
   "cell_type": "code",
   "execution_count": 201,
   "id": "c23f8b91-1fba-4f7e-b427-f76e73c6edf3",
   "metadata": {},
   "outputs": [
    {
     "data": {
      "text/plain": [
       "0.0"
      ]
     },
     "execution_count": 201,
     "metadata": {},
     "output_type": "execute_result"
    }
   ],
   "source": [
    "df_crashes.residuals.sum().round(2)"
   ]
  },
  {
   "cell_type": "markdown",
   "id": "91f376b4-4f68-42c3-9438-48fad204329e",
   "metadata": {},
   "source": [
    "But we get ZERO. Why?\n",
    "\n",
    "The residuals contain positive and negative numbers; some points are above the line, other points are below the line."
   ]
  },
  {
   "cell_type": "markdown",
   "id": "75bc9e59-eb94-4b2f-a4df-ddc496f79b0c",
   "metadata": {},
   "source": [
    "In order to turn negative values into positive values, we square the residuals:"
   ]
  },
  {
   "cell_type": "code",
   "execution_count": 202,
   "id": "59d66578-db03-4078-9cc0-89414148f280",
   "metadata": {},
   "outputs": [
    {
     "data": {
      "text/html": [
       "<div>\n",
       "<style scoped>\n",
       "    .dataframe tbody tr th:only-of-type {\n",
       "        vertical-align: middle;\n",
       "    }\n",
       "\n",
       "    .dataframe tbody tr th {\n",
       "        vertical-align: top;\n",
       "    }\n",
       "\n",
       "    .dataframe thead th {\n",
       "        text-align: right;\n",
       "    }\n",
       "</style>\n",
       "<table border=\"1\" class=\"dataframe\">\n",
       "  <thead>\n",
       "    <tr style=\"text-align: right;\">\n",
       "      <th></th>\n",
       "      <th>alcohol</th>\n",
       "      <th>accidents</th>\n",
       "      <th>pred_lr</th>\n",
       "      <th>residuals</th>\n",
       "      <th>residuals^2</th>\n",
       "    </tr>\n",
       "    <tr>\n",
       "      <th>abbrev</th>\n",
       "      <th></th>\n",
       "      <th></th>\n",
       "      <th></th>\n",
       "      <th></th>\n",
       "      <th></th>\n",
       "    </tr>\n",
       "  </thead>\n",
       "  <tbody>\n",
       "    <tr>\n",
       "      <th>AL</th>\n",
       "      <td>5.640</td>\n",
       "      <td>18.8</td>\n",
       "      <td>17.321112</td>\n",
       "      <td>1.478888</td>\n",
       "      <td>2.187111</td>\n",
       "    </tr>\n",
       "    <tr>\n",
       "      <th>AK</th>\n",
       "      <td>4.525</td>\n",
       "      <td>18.1</td>\n",
       "      <td>15.054867</td>\n",
       "      <td>3.045133</td>\n",
       "      <td>9.272834</td>\n",
       "    </tr>\n",
       "    <tr>\n",
       "      <th>...</th>\n",
       "      <td>...</td>\n",
       "      <td>...</td>\n",
       "      <td>...</td>\n",
       "      <td>...</td>\n",
       "      <td>...</td>\n",
       "    </tr>\n",
       "    <tr>\n",
       "      <th>WI</th>\n",
       "      <td>4.554</td>\n",
       "      <td>13.8</td>\n",
       "      <td>15.113810</td>\n",
       "      <td>-1.313810</td>\n",
       "      <td>1.726096</td>\n",
       "    </tr>\n",
       "    <tr>\n",
       "      <th>WY</th>\n",
       "      <td>5.568</td>\n",
       "      <td>17.4</td>\n",
       "      <td>17.174771</td>\n",
       "      <td>0.225229</td>\n",
       "      <td>0.050728</td>\n",
       "    </tr>\n",
       "  </tbody>\n",
       "</table>\n",
       "<p>51 rows × 5 columns</p>\n",
       "</div>"
      ],
      "text/plain": [
       "        alcohol  accidents    pred_lr  residuals  residuals^2\n",
       "abbrev                                                       \n",
       "AL        5.640       18.8  17.321112   1.478888     2.187111\n",
       "AK        4.525       18.1  15.054867   3.045133     9.272834\n",
       "...         ...        ...        ...        ...          ...\n",
       "WI        4.554       13.8  15.113810  -1.313810     1.726096\n",
       "WY        5.568       17.4  17.174771   0.225229     0.050728\n",
       "\n",
       "[51 rows x 5 columns]"
      ]
     },
     "execution_count": 202,
     "metadata": {},
     "output_type": "execute_result"
    }
   ],
   "source": [
    "df_crashes['residuals^2'] = df_crashes.residuals**2\n",
    "df_crashes"
   ]
  },
  {
   "cell_type": "markdown",
   "id": "07813a34-539f-4fb5-9b42-ec5d17f4ff74",
   "metadata": {},
   "source": [
    "And finally add the residuals up to calculate the **Residual Sum of Squares (RSS)**:"
   ]
  },
  {
   "cell_type": "code",
   "execution_count": 203,
   "id": "747dd0f6-81ae-4ebb-b5e8-d6617e751db2",
   "metadata": {},
   "outputs": [
    {
     "data": {
      "text/plain": [
       "231.96888653310063"
      ]
     },
     "execution_count": 203,
     "metadata": {},
     "output_type": "execute_result"
    }
   ],
   "source": [
    "df_crashes['residuals^2'].sum()"
   ]
  },
  {
   "cell_type": "code",
   "execution_count": 204,
   "id": "18bf0158-01d8-4b4e-8028-9f9058fd3bb9",
   "metadata": {},
   "outputs": [],
   "source": [
    "RSS = df_crashes['residuals^2'].sum()"
   ]
  },
  {
   "cell_type": "markdown",
   "id": "39e38f51-c069-4781-9dc8-666dd39b0877",
   "metadata": {},
   "source": [
    "$$\n",
    "RSS = \\sum(y_i - \\hat{y})^2\n",
    "$$\n",
    "\n",
    "where\n",
    "- y_i is the real number of accidents\n",
    "- $\\hat y$ is the predicted number of accidents\n",
    "- RSS: Residual Sum of Squares"
   ]
  },
  {
   "cell_type": "markdown",
   "id": "b4548ef2-ff51-4566-8792-7959fe96a9bf",
   "metadata": {},
   "source": [
    "##### Target's Variation"
   ]
  },
  {
   "cell_type": "markdown",
   "id": "bb6acf0d-27ac-4bbb-83b7-2e66fe192df0",
   "metadata": {},
   "source": [
    "The model was made to predict the number of accidents.\n",
    "\n",
    "We should ask: how good are the variation of the model's predictions compared to the variation of the real data (real number of accidents)?\n",
    "\n",
    "We have already calculated the variation of the model's prediction. Now we calculate the variation of the real data by comparing each accident value to the average:"
   ]
  },
  {
   "cell_type": "code",
   "execution_count": 205,
   "id": "049cf581-2f6a-48a5-82db-5abf02763ea2",
   "metadata": {},
   "outputs": [
    {
     "data": {
      "text/plain": [
       "abbrev\n",
       "AL    18.8\n",
       "AK    18.1\n",
       "      ... \n",
       "WI    13.8\n",
       "WY    17.4\n",
       "Name: accidents, Length: 51, dtype: float64"
      ]
     },
     "execution_count": 205,
     "metadata": {},
     "output_type": "execute_result"
    }
   ],
   "source": [
    "df_crashes.accidents"
   ]
  },
  {
   "cell_type": "code",
   "execution_count": 206,
   "id": "794e02f4-88a8-468e-a30c-394bb473ce06",
   "metadata": {},
   "outputs": [
    {
     "data": {
      "text/plain": [
       "15.79019607843137"
      ]
     },
     "execution_count": 206,
     "metadata": {},
     "output_type": "execute_result"
    }
   ],
   "source": [
    "df_crashes.accidents.mean()"
   ]
  },
  {
   "cell_type": "markdown",
   "id": "430bfc0a-b8eb-429d-ab2a-a6ab102e92e1",
   "metadata": {},
   "source": [
    "$$\n",
    "x_i - \\bar x\n",
    "$$\n",
    "\n",
    "where x is the number of accidents"
   ]
  },
  {
   "cell_type": "code",
   "execution_count": 207,
   "id": "e3e07b1e-cda3-4bd1-b9a1-40c27f548e63",
   "metadata": {},
   "outputs": [
    {
     "data": {
      "text/plain": [
       "abbrev\n",
       "AL    3.009804\n",
       "AK    2.309804\n",
       "        ...   \n",
       "WI   -1.990196\n",
       "WY    1.609804\n",
       "Name: accidents, Length: 51, dtype: float64"
      ]
     },
     "execution_count": 207,
     "metadata": {},
     "output_type": "execute_result"
    }
   ],
   "source": [
    "df_crashes.accidents - df_crashes.accidents.mean()"
   ]
  },
  {
   "cell_type": "code",
   "execution_count": 208,
   "id": "eb17b007-7beb-42a2-8aaf-b47e81030367",
   "metadata": {},
   "outputs": [
    {
     "data": {
      "text/html": [
       "<div>\n",
       "<style scoped>\n",
       "    .dataframe tbody tr th:only-of-type {\n",
       "        vertical-align: middle;\n",
       "    }\n",
       "\n",
       "    .dataframe tbody tr th {\n",
       "        vertical-align: top;\n",
       "    }\n",
       "\n",
       "    .dataframe thead th {\n",
       "        text-align: right;\n",
       "    }\n",
       "</style>\n",
       "<table border=\"1\" class=\"dataframe\">\n",
       "  <thead>\n",
       "    <tr style=\"text-align: right;\">\n",
       "      <th></th>\n",
       "      <th>alcohol</th>\n",
       "      <th>accidents</th>\n",
       "      <th>pred_lr</th>\n",
       "      <th>residuals</th>\n",
       "      <th>residuals^2</th>\n",
       "      <th>real_residuals</th>\n",
       "    </tr>\n",
       "    <tr>\n",
       "      <th>abbrev</th>\n",
       "      <th></th>\n",
       "      <th></th>\n",
       "      <th></th>\n",
       "      <th></th>\n",
       "      <th></th>\n",
       "      <th></th>\n",
       "    </tr>\n",
       "  </thead>\n",
       "  <tbody>\n",
       "    <tr>\n",
       "      <th>AL</th>\n",
       "      <td>5.640</td>\n",
       "      <td>18.8</td>\n",
       "      <td>17.321112</td>\n",
       "      <td>1.478888</td>\n",
       "      <td>2.187111</td>\n",
       "      <td>3.009804</td>\n",
       "    </tr>\n",
       "    <tr>\n",
       "      <th>AK</th>\n",
       "      <td>4.525</td>\n",
       "      <td>18.1</td>\n",
       "      <td>15.054867</td>\n",
       "      <td>3.045133</td>\n",
       "      <td>9.272834</td>\n",
       "      <td>2.309804</td>\n",
       "    </tr>\n",
       "    <tr>\n",
       "      <th>...</th>\n",
       "      <td>...</td>\n",
       "      <td>...</td>\n",
       "      <td>...</td>\n",
       "      <td>...</td>\n",
       "      <td>...</td>\n",
       "      <td>...</td>\n",
       "    </tr>\n",
       "    <tr>\n",
       "      <th>WI</th>\n",
       "      <td>4.554</td>\n",
       "      <td>13.8</td>\n",
       "      <td>15.113810</td>\n",
       "      <td>-1.313810</td>\n",
       "      <td>1.726096</td>\n",
       "      <td>-1.990196</td>\n",
       "    </tr>\n",
       "    <tr>\n",
       "      <th>WY</th>\n",
       "      <td>5.568</td>\n",
       "      <td>17.4</td>\n",
       "      <td>17.174771</td>\n",
       "      <td>0.225229</td>\n",
       "      <td>0.050728</td>\n",
       "      <td>1.609804</td>\n",
       "    </tr>\n",
       "  </tbody>\n",
       "</table>\n",
       "<p>51 rows × 6 columns</p>\n",
       "</div>"
      ],
      "text/plain": [
       "        alcohol  accidents    pred_lr  residuals  residuals^2  real_residuals\n",
       "abbrev                                                                       \n",
       "AL        5.640       18.8  17.321112   1.478888     2.187111        3.009804\n",
       "AK        4.525       18.1  15.054867   3.045133     9.272834        2.309804\n",
       "...         ...        ...        ...        ...          ...             ...\n",
       "WI        4.554       13.8  15.113810  -1.313810     1.726096       -1.990196\n",
       "WY        5.568       17.4  17.174771   0.225229     0.050728        1.609804\n",
       "\n",
       "[51 rows x 6 columns]"
      ]
     },
     "execution_count": 208,
     "metadata": {},
     "output_type": "execute_result"
    }
   ],
   "source": [
    "df_crashes['real_residuals'] = df_crashes.accidents - df_crashes.accidents.mean()\n",
    "df_crashes"
   ]
  },
  {
   "cell_type": "markdown",
   "id": "93376711-633a-4595-a377-6d1a7d386a86",
   "metadata": {},
   "source": [
    "We square the residuals due to the same reason as before (convert negative values into positive ones):"
   ]
  },
  {
   "cell_type": "code",
   "execution_count": 162,
   "id": "2b8f51e1-5477-4f00-872c-47a2382a70e9",
   "metadata": {},
   "outputs": [],
   "source": [
    "df_crashes['real_residuals^2'] = df_crashes.real_residuals**2"
   ]
  },
  {
   "cell_type": "markdown",
   "id": "29740509-e64c-40a7-9958-e0886f5b255c",
   "metadata": {},
   "source": [
    "$$\n",
    "TTS = \\sum(y_i - \\bar y)^2\n",
    "$$\n",
    "\n",
    "where\n",
    "- y_i is the number of accidents\n",
    "- $\\bar y$ is the average number of accidents\n",
    "- TTS: Total Sum of Squares"
   ]
  },
  {
   "cell_type": "markdown",
   "id": "4eb8de17-e58f-4a62-aef2-cf64f3ebf801",
   "metadata": {},
   "source": [
    "And we add up the values to get the **Total Sum of Squares (RSS)**:"
   ]
  },
  {
   "cell_type": "code",
   "execution_count": 163,
   "id": "23afcbf8-543e-4978-9121-106771597593",
   "metadata": {},
   "outputs": [
    {
     "data": {
      "text/plain": [
       "849.5450980392156"
      ]
     },
     "execution_count": 163,
     "metadata": {},
     "output_type": "execute_result"
    }
   ],
   "source": [
    "df_crashes['real_residuals^2'].sum()"
   ]
  },
  {
   "cell_type": "code",
   "execution_count": 164,
   "id": "26b6b14e-50d2-43a0-b50c-90914e0a2a9f",
   "metadata": {},
   "outputs": [],
   "source": [
    "TSS = df_crashes['real_residuals^2'].sum()"
   ]
  },
  {
   "cell_type": "markdown",
   "id": "4c9fc0c8-79fe-4d46-9065-789d8d62cd92",
   "metadata": {},
   "source": [
    "##### The Ratio"
   ]
  },
  {
   "cell_type": "markdown",
   "id": "aaa9447b-ff67-4e9e-a4c1-eed2e43a6471",
   "metadata": {},
   "source": [
    "The ratio between RSS and TSS represents how much our model fails with respect to the variation of the real data."
   ]
  },
  {
   "cell_type": "code",
   "execution_count": 165,
   "id": "c7494b6d-3ab2-4e5e-9cc7-4f0e54bfc8bc",
   "metadata": {},
   "outputs": [
    {
     "data": {
      "text/plain": [
       "0.2730507033334595"
      ]
     },
     "execution_count": 165,
     "metadata": {},
     "output_type": "execute_result"
    }
   ],
   "source": [
    "RSS/TSS"
   ]
  },
  {
   "cell_type": "markdown",
   "id": "f33827b3-37a8-4641-ab55-c4f807ca73a1",
   "metadata": {},
   "source": [
    "0.27 is the badness of the model as **RSS** represents the **residuals** (errors) of the model.\n",
    "\n",
    "To calculate the **goodness** of the model, we need to substract the ratio RSS/TSS to 1:"
   ]
  },
  {
   "cell_type": "markdown",
   "id": "9d5648fb-79e4-4d0d-bdd7-099d08537e64",
   "metadata": {},
   "source": [
    "$$\n",
    "R^2 = 1 - \\frac{RSS}{TSS} = 1 - \\frac{\\sum(y_i - \\hat{y})^2}{\\sum(y_i - \\bar y)^2}\n",
    "$$"
   ]
  },
  {
   "cell_type": "code",
   "execution_count": 166,
   "id": "a5c482f9-912a-4361-97d9-e8173bf2718a",
   "metadata": {},
   "outputs": [
    {
     "data": {
      "text/plain": [
       "0.7269492966665405"
      ]
     },
     "execution_count": 166,
     "metadata": {},
     "output_type": "execute_result"
    }
   ],
   "source": [
    "1 - RSS/TSS"
   ]
  },
  {
   "cell_type": "markdown",
   "id": "fad30e20-f156-4354-a443-75e19543327e",
   "metadata": {},
   "source": [
    "The model is able to explain 72.69% of the total number of accidents variability."
   ]
  },
  {
   "cell_type": "markdown",
   "id": "b13c212c-19ac-49a2-aad3-eb84f01fe655",
   "metadata": {},
   "source": [
    "The following image describes how we calculate the goodness of the model."
   ]
  },
  {
   "cell_type": "markdown",
   "id": "016a9d0a-a285-49dd-953f-c1ae17d399ce",
   "metadata": {},
   "source": [
    "![](https://media-exp1.licdn.com/dms/image/C5112AQHeNIN7uPgAcA/article-inline_image-shrink_1500_2232-alternative/0/1560061784390?e=1664409600&v=beta&t=wkxQ3gKrF3-NmTR9_Ro0m_-V4JLxUzCMuSfqhG8cql4)"
   ]
  },
  {
   "cell_type": "markdown",
   "id": "09870137-7142-4574-b5ad-0c6a97d596f7",
   "metadata": {},
   "source": [
    "### Model Interpretation"
   ]
  },
  {
   "cell_type": "markdown",
   "id": "790ea793-2705-4126-aa46-120e523cd3d7",
   "metadata": {},
   "source": [
    "How do we get the numbers of the mathematical equation of the Linear Regression?\n",
    "\n",
    "- We need to look inside the object `model_lr` and show the attributes with `.__dict__` (the numbers were computed with the `.fit()` function):"
   ]
  },
  {
   "cell_type": "code",
   "execution_count": 167,
   "id": "5da795bf-01f0-490c-8ff6-95a4b0685820",
   "metadata": {},
   "outputs": [
    {
     "data": {
      "text/plain": [
       "{'fit_intercept': True,\n",
       " 'normalize': 'deprecated',\n",
       " 'copy_X': True,\n",
       " 'n_jobs': None,\n",
       " 'positive': False,\n",
       " 'feature_names_in_': array(['alcohol'], dtype=object),\n",
       " 'n_features_in_': 1,\n",
       " 'coef_': array([2.0325063]),\n",
       " '_residues': 231.9688865331006,\n",
       " 'rank_': 1,\n",
       " 'singular_': array([12.22681605]),\n",
       " 'intercept_': 5.857776154826299}"
      ]
     },
     "execution_count": 167,
     "metadata": {},
     "output_type": "execute_result"
    }
   ],
   "source": [
    "model_lr.__dict__"
   ]
  },
  {
   "cell_type": "markdown",
   "id": "4ceae735-bf38-4c00-89c5-356c74e5a229",
   "metadata": {},
   "source": [
    "- `intercept_` is the (a) number of the mathematical equation\n",
    "- `coef_` is the (b) number of the mathematical equation"
   ]
  },
  {
   "cell_type": "markdown",
   "id": "431d59bc-f65b-43ef-bb86-89e79f4843b4",
   "metadata": {},
   "source": [
    "$$\n",
    "accidents = (a) + (b) \\cdot alcohol \\\\\n",
    "accidents = (intercept\\_) + (coef\\_) \\cdot alcohol \\\\\n",
    "accidents = (5.857) + (2.032) \\cdot alcohol\n",
    "$$"
   ]
  },
  {
   "cell_type": "markdown",
   "id": "e1330061-ef1e-4e63-ae2f-7e12f805af7e",
   "metadata": {},
   "source": [
    "For every unit of alcohol increased, the number of accidents will increase 2.032 units."
   ]
  },
  {
   "cell_type": "code",
   "execution_count": 168,
   "id": "8989391b-28bc-47bf-998d-8bfd42808b74",
   "metadata": {},
   "outputs": [
    {
     "data": {
      "text/html": [
       "<div>\n",
       "<style scoped>\n",
       "    .dataframe tbody tr th:only-of-type {\n",
       "        vertical-align: middle;\n",
       "    }\n",
       "\n",
       "    .dataframe tbody tr th {\n",
       "        vertical-align: top;\n",
       "    }\n",
       "\n",
       "    .dataframe thead th {\n",
       "        text-align: right;\n",
       "    }\n",
       "</style>\n",
       "<table border=\"1\" class=\"dataframe\">\n",
       "  <thead>\n",
       "    <tr style=\"text-align: right;\">\n",
       "      <th></th>\n",
       "      <th>alcohol</th>\n",
       "      <th>pred_lr</th>\n",
       "      <th>diff</th>\n",
       "    </tr>\n",
       "  </thead>\n",
       "  <tbody>\n",
       "    <tr>\n",
       "      <th>0</th>\n",
       "      <td>1</td>\n",
       "      <td>7.889</td>\n",
       "      <td>NaN</td>\n",
       "    </tr>\n",
       "    <tr>\n",
       "      <th>1</th>\n",
       "      <td>2</td>\n",
       "      <td>9.921</td>\n",
       "      <td>2.032</td>\n",
       "    </tr>\n",
       "    <tr>\n",
       "      <th>2</th>\n",
       "      <td>3</td>\n",
       "      <td>11.953</td>\n",
       "      <td>2.032</td>\n",
       "    </tr>\n",
       "    <tr>\n",
       "      <th>3</th>\n",
       "      <td>4</td>\n",
       "      <td>13.985</td>\n",
       "      <td>2.032</td>\n",
       "    </tr>\n",
       "    <tr>\n",
       "      <th>4</th>\n",
       "      <td>5</td>\n",
       "      <td>16.017</td>\n",
       "      <td>2.032</td>\n",
       "    </tr>\n",
       "  </tbody>\n",
       "</table>\n",
       "</div>"
      ],
      "text/plain": [
       "   alcohol  pred_lr   diff\n",
       "0        1    7.889    NaN\n",
       "1        2    9.921  2.032\n",
       "2        3   11.953  2.032\n",
       "3        4   13.985  2.032\n",
       "4        5   16.017  2.032"
      ]
     },
     "execution_count": 168,
     "metadata": {},
     "output_type": "execute_result"
    }
   ],
   "source": [
    "import pandas as pd\n",
    "\n",
    "df_to_pred = pd.DataFrame({'alcohol': [1,2,3,4,5]})\n",
    "df_to_pred['pred_lr'] = 5.857 + 2.032 * df_to_pred.alcohol\n",
    "df_to_pred['diff'] = df_to_pred.pred_lr.diff()\n",
    "df_to_pred"
   ]
  },
  {
   "cell_type": "markdown",
   "id": "001199cd-582d-4fde-ac40-e5f7388e7f80",
   "metadata": {},
   "source": [
    "## Other Regression Models"
   ]
  },
  {
   "cell_type": "markdown",
   "id": "59c1317b-d789-42be-aa47-efbc27657fc8",
   "metadata": {},
   "source": [
    "Could we make a better model that improves the current Linear Regression's Score?"
   ]
  },
  {
   "cell_type": "code",
   "execution_count": 210,
   "id": "114ae54e-c39d-4952-b116-ef28145d30f4",
   "metadata": {},
   "outputs": [
    {
     "data": {
      "text/plain": [
       "0.7269492966665405"
      ]
     },
     "execution_count": 210,
     "metadata": {},
     "output_type": "execute_result"
    }
   ],
   "source": [
    "model_lr.score(X=features, y=target)"
   ]
  },
  {
   "cell_type": "markdown",
   "id": "6cbbe7a4-a9ac-420f-8c3f-7c2177d91e81",
   "metadata": {},
   "source": [
    "- Let's try a Random Forest and a Support Vector Machines.\n",
    "\n",
    "Do we need to know the maths behind these models to implement them in Python?\n",
    "\n",
    "- No. As we explain in [this tutorial](https://blog.resolvingpython.com/why-all-machine-learning-models-are-the-same), all you need to do is:\n",
    "\n",
    "    1. `fit()`\n",
    "    2. `.predict()`\n",
    "    3. `.score()`\n",
    "    4. Repeat"
   ]
  },
  {
   "cell_type": "markdown",
   "id": "f200a2dc-77e2-4999-aadf-3f25bccae42f",
   "metadata": {},
   "source": [
    "### `RandomForestRegressor()` in Python"
   ]
  },
  {
   "cell_type": "markdown",
   "id": "293e063c-d32d-44e2-a1d7-a9a47422ccef",
   "metadata": {},
   "source": [
    "#### Fit the Model"
   ]
  },
  {
   "cell_type": "code",
   "execution_count": 211,
   "id": "4372e2db-743f-41a0-b440-63c38ef981ce",
   "metadata": {},
   "outputs": [
    {
     "data": {
      "text/plain": [
       "RandomForestRegressor()"
      ]
     },
     "execution_count": 211,
     "metadata": {},
     "output_type": "execute_result"
    }
   ],
   "source": [
    "from sklearn.ensemble import RandomForestRegressor\n",
    "\n",
    "model_rf = RandomForestRegressor()\n",
    "model_rf.fit(X=features, y=target)"
   ]
  },
  {
   "cell_type": "markdown",
   "id": "bd98da1e-d0f6-41dc-8b45-adc4aa16912b",
   "metadata": {},
   "source": [
    "#### Calculate Predictions"
   ]
  },
  {
   "cell_type": "code",
   "execution_count": 212,
   "id": "9fefe912-8926-4995-bf4d-180a3c20827a",
   "metadata": {},
   "outputs": [
    {
     "data": {
      "text/plain": [
       "array([18.644     , 16.831     , 17.54634286, 21.512     , 12.182     ,\n",
       "       13.15      , 12.391     , 17.439     ,  7.775     , 17.74664286,\n",
       "       14.407     , 18.365     , 15.101     , 14.132     , 13.553     ,\n",
       "       15.097     , 15.949     , 19.857     , 21.114     , 15.53      ,\n",
       "       13.241     ,  8.98      , 14.363     ,  9.54      , 17.208     ,\n",
       "       16.593     , 22.087     , 16.24144286, 14.478     , 11.51      ,\n",
       "       11.59      , 18.537     , 11.77      , 17.54634286, 23.487     ,\n",
       "       14.907     , 20.462     , 12.59      , 18.38      , 12.449     ,\n",
       "       23.487     , 20.311     , 19.004     , 19.22      ,  9.719     ,\n",
       "       13.476     , 12.333     , 11.08      , 22.368     , 14.67      ,\n",
       "       17.966     ])"
      ]
     },
     "execution_count": 212,
     "metadata": {},
     "output_type": "execute_result"
    }
   ],
   "source": [
    "model_rf.predict(X=features)"
   ]
  },
  {
   "cell_type": "code",
   "execution_count": 213,
   "id": "1198e2c6-179c-47af-b0bc-f3ac9376abff",
   "metadata": {},
   "outputs": [],
   "source": [
    "df_crashes['pred_rf'] = model_rf.predict(X=features)"
   ]
  },
  {
   "cell_type": "markdown",
   "id": "a521f46c-5cd6-4038-83b9-a2f8cb7a6b20",
   "metadata": {},
   "source": [
    "#### Model's Score"
   ]
  },
  {
   "cell_type": "code",
   "execution_count": 214,
   "id": "6c88f748-95a8-47db-818f-951fb6ad66e6",
   "metadata": {},
   "outputs": [
    {
     "data": {
      "text/plain": [
       "0.9549469198566546"
      ]
     },
     "execution_count": 214,
     "metadata": {},
     "output_type": "execute_result"
    }
   ],
   "source": [
    "model_rf.score(X=features, y=target)"
   ]
  },
  {
   "cell_type": "markdown",
   "id": "b8e60ce4-73a1-4e8b-9711-b461f14eb473",
   "metadata": {},
   "source": [
    "Let's create a dictionary that stores the Score of each model:"
   ]
  },
  {
   "cell_type": "code",
   "execution_count": 215,
   "id": "10df977b-aa70-43aa-899c-f8048e8c444b",
   "metadata": {},
   "outputs": [],
   "source": [
    "dic_scores = {}\n",
    "dic_scores['lr'] = model_lr.score(X=features, y=target)\n",
    "dic_scores['rf'] = model_rf.score(X=features, y=target)"
   ]
  },
  {
   "cell_type": "markdown",
   "id": "5997070a-3ec3-41f5-bbe0-5790052df41b",
   "metadata": {},
   "source": [
    "### `SVR()` in Python"
   ]
  },
  {
   "cell_type": "markdown",
   "id": "383eebba-6c14-4717-aab3-6ebbea0cb200",
   "metadata": {},
   "source": [
    "#### Fit the Model"
   ]
  },
  {
   "cell_type": "code",
   "execution_count": 216,
   "id": "e9af366e-41ab-4be7-852e-b948cacceed2",
   "metadata": {},
   "outputs": [
    {
     "data": {
      "text/plain": [
       "SVR()"
      ]
     },
     "execution_count": 216,
     "metadata": {},
     "output_type": "execute_result"
    }
   ],
   "source": [
    "from sklearn.svm import SVR\n",
    "\n",
    "model_sv = SVR()\n",
    "model_sv.fit(X=features, y=target)"
   ]
  },
  {
   "cell_type": "markdown",
   "id": "d8da885e-e670-4211-baad-5966b64a1154",
   "metadata": {},
   "source": [
    "#### Calculate Predictions"
   ]
  },
  {
   "cell_type": "code",
   "execution_count": 217,
   "id": "3b8ef7cc-5097-471d-b9d1-a75b610a4731",
   "metadata": {},
   "outputs": [
    {
     "data": {
      "text/plain": [
       "array([18.29570777, 15.18462721, 17.2224187 , 18.6633175 , 12.12434781,\n",
       "       13.10691581, 13.31612684, 16.21131216, 12.66062465, 17.17537208,\n",
       "       13.34820949, 19.38920329, 14.91415215, 14.65467023, 14.2131504 ,\n",
       "       13.41560202, 14.41299448, 16.39752499, 19.4896662 , 15.20002787,\n",
       "       13.62200798, 11.5390483 , 13.47824339, 11.49818909, 17.87053595,\n",
       "       17.9144274 , 19.60736085, 17.24170425, 15.73585463, 12.35136579,\n",
       "       11.784815  , 16.53431108, 12.53373232, 17.2224187 , 19.4773929 ,\n",
       "       16.01115736, 18.56379706, 12.06891287, 18.30002795, 14.25171609,\n",
       "       19.59597679, 19.37950461, 18.32794218, 19.29994413, 12.26345665,\n",
       "       13.84847453, 12.25128025, 12.38791686, 19.48212198, 15.27397732,\n",
       "       18.1357253 ])"
      ]
     },
     "execution_count": 217,
     "metadata": {},
     "output_type": "execute_result"
    }
   ],
   "source": [
    "model_sv.predict(X=features)"
   ]
  },
  {
   "cell_type": "code",
   "execution_count": 218,
   "id": "1c5bdbfb-a3bd-4848-b30f-3ec37c899a95",
   "metadata": {},
   "outputs": [],
   "source": [
    "df_crashes['pred_sv'] = model_sv.predict(X=features)"
   ]
  },
  {
   "cell_type": "markdown",
   "id": "6106bd7e-fca6-4816-8e10-704e30c70a67",
   "metadata": {},
   "source": [
    "#### Model's Score"
   ]
  },
  {
   "cell_type": "code",
   "execution_count": 219,
   "id": "f06ebf65-3efe-4310-b9bc-52347a6a4eb0",
   "metadata": {},
   "outputs": [
    {
     "data": {
      "text/plain": [
       "0.7083438012012769"
      ]
     },
     "execution_count": 219,
     "metadata": {},
     "output_type": "execute_result"
    }
   ],
   "source": [
    "model_sv.score(X=features, y=target)"
   ]
  },
  {
   "cell_type": "code",
   "execution_count": 220,
   "id": "3a8a3326-7bef-47d8-a0c6-8bbe003d0bf1",
   "metadata": {},
   "outputs": [],
   "source": [
    "dic_scores['sv'] = model_sv.score(X=features, y=target)"
   ]
  },
  {
   "cell_type": "markdown",
   "id": "7aa981a0-d4f1-4a30-88e0-3c6c7a8c82c7",
   "metadata": {},
   "source": [
    "## Which One Is the Best? Why?"
   ]
  },
  {
   "cell_type": "markdown",
   "id": "95d08f87-418d-416c-8970-43d84e6266d7",
   "metadata": {},
   "source": [
    "The best model is the Random Forest with an Score of 0.95:"
   ]
  },
  {
   "cell_type": "code",
   "execution_count": 221,
   "id": "755d4531-0798-4546-bcb4-8b246c4148ca",
   "metadata": {},
   "outputs": [
    {
     "data": {
      "text/plain": [
       "rf    0.954947\n",
       "lr    0.726949\n",
       "sv    0.708344\n",
       "dtype: float64"
      ]
     },
     "execution_count": 221,
     "metadata": {},
     "output_type": "execute_result"
    }
   ],
   "source": [
    "pd.Series(dic_scores).sort_values(ascending=False)"
   ]
  },
  {
   "cell_type": "markdown",
   "id": "e51ee289-1bc4-4eee-919c-c9788dc56ad9",
   "metadata": {},
   "source": [
    "## Visualize the 3 Models"
   ]
  },
  {
   "cell_type": "markdown",
   "id": "6e0cb2bf-793a-4f24-8365-11bc180ac656",
   "metadata": {},
   "source": [
    "Let's put the following data:"
   ]
  },
  {
   "cell_type": "code",
   "execution_count": 222,
   "id": "1394d6df-cd4d-4731-9fe2-65fe375233cc",
   "metadata": {},
   "outputs": [
    {
     "data": {
      "text/html": [
       "<div>\n",
       "<style scoped>\n",
       "    .dataframe tbody tr th:only-of-type {\n",
       "        vertical-align: middle;\n",
       "    }\n",
       "\n",
       "    .dataframe tbody tr th {\n",
       "        vertical-align: top;\n",
       "    }\n",
       "\n",
       "    .dataframe thead th {\n",
       "        text-align: right;\n",
       "    }\n",
       "</style>\n",
       "<table border=\"1\" class=\"dataframe\">\n",
       "  <thead>\n",
       "    <tr style=\"text-align: right;\">\n",
       "      <th></th>\n",
       "      <th>accidents</th>\n",
       "      <th>pred_lr</th>\n",
       "      <th>pred_rf</th>\n",
       "      <th>pred_sv</th>\n",
       "    </tr>\n",
       "    <tr>\n",
       "      <th>abbrev</th>\n",
       "      <th></th>\n",
       "      <th></th>\n",
       "      <th></th>\n",
       "      <th></th>\n",
       "    </tr>\n",
       "  </thead>\n",
       "  <tbody>\n",
       "    <tr>\n",
       "      <th>AL</th>\n",
       "      <td>18.8</td>\n",
       "      <td>17.321112</td>\n",
       "      <td>18.644</td>\n",
       "      <td>18.295708</td>\n",
       "    </tr>\n",
       "    <tr>\n",
       "      <th>AK</th>\n",
       "      <td>18.1</td>\n",
       "      <td>15.054867</td>\n",
       "      <td>16.831</td>\n",
       "      <td>15.184627</td>\n",
       "    </tr>\n",
       "    <tr>\n",
       "      <th>...</th>\n",
       "      <td>...</td>\n",
       "      <td>...</td>\n",
       "      <td>...</td>\n",
       "      <td>...</td>\n",
       "    </tr>\n",
       "    <tr>\n",
       "      <th>WI</th>\n",
       "      <td>13.8</td>\n",
       "      <td>15.113810</td>\n",
       "      <td>14.670</td>\n",
       "      <td>15.273977</td>\n",
       "    </tr>\n",
       "    <tr>\n",
       "      <th>WY</th>\n",
       "      <td>17.4</td>\n",
       "      <td>17.174771</td>\n",
       "      <td>17.966</td>\n",
       "      <td>18.135725</td>\n",
       "    </tr>\n",
       "  </tbody>\n",
       "</table>\n",
       "<p>51 rows × 4 columns</p>\n",
       "</div>"
      ],
      "text/plain": [
       "        accidents    pred_lr  pred_rf    pred_sv\n",
       "abbrev                                          \n",
       "AL           18.8  17.321112   18.644  18.295708\n",
       "AK           18.1  15.054867   16.831  15.184627\n",
       "...           ...        ...      ...        ...\n",
       "WI           13.8  15.113810   14.670  15.273977\n",
       "WY           17.4  17.174771   17.966  18.135725\n",
       "\n",
       "[51 rows x 4 columns]"
      ]
     },
     "execution_count": 222,
     "metadata": {},
     "output_type": "execute_result"
    }
   ],
   "source": [
    "df_crashes[['accidents', 'pred_lr', 'pred_rf', 'pred_sv']]"
   ]
  },
  {
   "cell_type": "markdown",
   "id": "8b45ab58-6373-45af-950f-521eacd0ecb3",
   "metadata": {},
   "source": [
    "Into a plot:"
   ]
  },
  {
   "cell_type": "code",
   "execution_count": 224,
   "id": "94bb3803-6b80-4639-9f02-6fbe2fa308d5",
   "metadata": {},
   "outputs": [
    {
     "data": {
      "image/png": "[encoded data removed]",
      "text/plain": [
       "<Figure size 432x288 with 1 Axes>"
      ]
     },
     "metadata": {
      "needs_background": "light"
     },
     "output_type": "display_data"
    }
   ],
   "source": [
    "sns.scatterplot(x='alcohol', y='accidents', data=df_crashes, label='Real Data')\n",
    "sns.scatterplot(x='alcohol', y='pred_lr', data=df_crashes, label='Linear Regression')\n",
    "sns.lineplot(x='alcohol', y='pred_lr', data=df_crashes, color='orange')\n",
    "sns.scatterplot(x='alcohol', y='pred_rf', data=df_crashes, label='Random Forest')\n",
    "sns.scatterplot(x='alcohol', y='pred_sv', data=df_crashes, label='Support Vector Machines');"
   ]
  },
  {
   "cell_type": "markdown",
   "id": "d93a7134-8cbd-4ea7-9e7a-b7b6576b5f18",
   "metadata": {},
   "source": [
    "<a rel=\"license\" href=\"http://creativecommons.org/licenses/by-nc-nd/4.0/\"><img alt=\"Creative Commons License\" style=\"border-width:0\" src=\"https://i.creativecommons.org/l/by-nc-nd/4.0/88x31.png\" /></a><br />This work is licensed under a <a rel=\"license\" href=\"http://creativecommons.org/licenses/by-nc-nd/4.0/\">Creative Commons Attribution-NonCommercial-NoDerivatives 4.0 International License</a>."
   ]
  }
 ],
 "metadata": {
  "kernelspec": {
   "display_name": "Python 3",
   "language": "python",
   "name": "python3"
  },
  "language_info": {
   "codemirror_mode": {
    "name": "ipython",
    "version": 3
   },
   "file_extension": ".py",
   "mimetype": "text/x-python",
   "name": "python",
   "nbconvert_exporter": "python",
   "pygments_lexer": "ipython3",
   "version": "3.8.8"
  },
  "toc-autonumbering": true
 },
 "nbformat": 4,
 "nbformat_minor": 5
}
