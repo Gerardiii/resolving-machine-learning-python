{
 "cells": [
  {
   "cell_type": "markdown",
   "id": "bf85d19f-379f-44c4-8bdc-dab051da88d0",
   "metadata": {},
   "source": [
    "## Load the Data"
   ]
  },
  {
   "cell_type": "code",
   "execution_count": 2,
   "id": "ba446839-1b63-4e63-ab12-3616b3bd52dc",
   "metadata": {},
   "outputs": [],
   "source": [
    "import pandas as pd"
   ]
  },
  {
   "cell_type": "code",
   "execution_count": 3,
   "id": "f3e519c8-fea9-4041-a18b-c2c362212e57",
   "metadata": {},
   "outputs": [],
   "source": [
    "pd.read_excel('/Users/gerardmartinez/Desktop/premierleague.xlsx',index_col='Team')\n",
    "Data_premier = pd.read_excel('/Users/gerardmartinez/Desktop/premierleague.xlsx', index_col='Team')"
   ]
  },
  {
   "cell_type": "code",
   "execution_count": 4,
   "id": "1dad373b-04e6-4881-ba1e-cedc87419b19",
   "metadata": {},
   "outputs": [
    {
     "data": {
      "text/html": [
       "<div>\n",
       "<style scoped>\n",
       "    .dataframe tbody tr th:only-of-type {\n",
       "        vertical-align: middle;\n",
       "    }\n",
       "\n",
       "    .dataframe tbody tr th {\n",
       "        vertical-align: top;\n",
       "    }\n",
       "\n",
       "    .dataframe thead th {\n",
       "        text-align: right;\n",
       "    }\n",
       "</style>\n",
       "<table border=\"1\" class=\"dataframe\">\n",
       "  <thead>\n",
       "    <tr style=\"text-align: right;\">\n",
       "      <th></th>\n",
       "      <th>Games</th>\n",
       "      <th>wins</th>\n",
       "      <th>Draws</th>\n",
       "      <th>Lost</th>\n",
       "      <th>Points</th>\n",
       "      <th>PES</th>\n",
       "    </tr>\n",
       "    <tr>\n",
       "      <th>Team</th>\n",
       "      <th></th>\n",
       "      <th></th>\n",
       "      <th></th>\n",
       "      <th></th>\n",
       "      <th></th>\n",
       "      <th></th>\n",
       "    </tr>\n",
       "  </thead>\n",
       "  <tbody>\n",
       "    <tr>\n",
       "      <th>Manchester City</th>\n",
       "      <td>19</td>\n",
       "      <td>15</td>\n",
       "      <td>2</td>\n",
       "      <td>2</td>\n",
       "      <td>47</td>\n",
       "      <td>93</td>\n",
       "    </tr>\n",
       "    <tr>\n",
       "      <th>Liverpool FC</th>\n",
       "      <td>19</td>\n",
       "      <td>13</td>\n",
       "      <td>5</td>\n",
       "      <td>1</td>\n",
       "      <td>44</td>\n",
       "      <td>92</td>\n",
       "    </tr>\n",
       "    <tr>\n",
       "      <th>Chelsea FC</th>\n",
       "      <td>19</td>\n",
       "      <td>12</td>\n",
       "      <td>5</td>\n",
       "      <td>2</td>\n",
       "      <td>41</td>\n",
       "      <td>74</td>\n",
       "    </tr>\n",
       "    <tr>\n",
       "      <th>Arsenal FC</th>\n",
       "      <td>19</td>\n",
       "      <td>11</td>\n",
       "      <td>2</td>\n",
       "      <td>6</td>\n",
       "      <td>35</td>\n",
       "      <td>71</td>\n",
       "    </tr>\n",
       "    <tr>\n",
       "      <th>Tottenham Hotspur</th>\n",
       "      <td>19</td>\n",
       "      <td>11</td>\n",
       "      <td>2</td>\n",
       "      <td>6</td>\n",
       "      <td>35</td>\n",
       "      <td>69</td>\n",
       "    </tr>\n",
       "    <tr>\n",
       "      <th>Manchester United</th>\n",
       "      <td>19</td>\n",
       "      <td>10</td>\n",
       "      <td>4</td>\n",
       "      <td>5</td>\n",
       "      <td>34</td>\n",
       "      <td>58</td>\n",
       "    </tr>\n",
       "    <tr>\n",
       "      <th>West Ham United</th>\n",
       "      <td>19</td>\n",
       "      <td>9</td>\n",
       "      <td>4</td>\n",
       "      <td>6</td>\n",
       "      <td>31</td>\n",
       "      <td>56</td>\n",
       "    </tr>\n",
       "    <tr>\n",
       "      <th>Wolverhampton Wanderers</th>\n",
       "      <td>19</td>\n",
       "      <td>8</td>\n",
       "      <td>4</td>\n",
       "      <td>7</td>\n",
       "      <td>28</td>\n",
       "      <td>52</td>\n",
       "    </tr>\n",
       "    <tr>\n",
       "      <th>Crystal Palace</th>\n",
       "      <td>19</td>\n",
       "      <td>5</td>\n",
       "      <td>8</td>\n",
       "      <td>6</td>\n",
       "      <td>23</td>\n",
       "      <td>51</td>\n",
       "    </tr>\n",
       "    <tr>\n",
       "      <th>Leicester City</th>\n",
       "      <td>19</td>\n",
       "      <td>6</td>\n",
       "      <td>5</td>\n",
       "      <td>8</td>\n",
       "      <td>23</td>\n",
       "      <td>51</td>\n",
       "    </tr>\n",
       "    <tr>\n",
       "      <th>Aston Villa</th>\n",
       "      <td>19</td>\n",
       "      <td>7</td>\n",
       "      <td>2</td>\n",
       "      <td>10</td>\n",
       "      <td>23</td>\n",
       "      <td>49</td>\n",
       "    </tr>\n",
       "    <tr>\n",
       "      <th>Brighton &amp; Hove Albion</th>\n",
       "      <td>19</td>\n",
       "      <td>5</td>\n",
       "      <td>8</td>\n",
       "      <td>6</td>\n",
       "      <td>23</td>\n",
       "      <td>48</td>\n",
       "    </tr>\n",
       "    <tr>\n",
       "      <th>Southampton FC</th>\n",
       "      <td>19</td>\n",
       "      <td>5</td>\n",
       "      <td>8</td>\n",
       "      <td>6</td>\n",
       "      <td>23</td>\n",
       "      <td>46</td>\n",
       "    </tr>\n",
       "    <tr>\n",
       "      <th>Brentford FC</th>\n",
       "      <td>19</td>\n",
       "      <td>5</td>\n",
       "      <td>5</td>\n",
       "      <td>9</td>\n",
       "      <td>20</td>\n",
       "      <td>45</td>\n",
       "    </tr>\n",
       "    <tr>\n",
       "      <th>Everton FC</th>\n",
       "      <td>19</td>\n",
       "      <td>5</td>\n",
       "      <td>5</td>\n",
       "      <td>9</td>\n",
       "      <td>20</td>\n",
       "      <td>40</td>\n",
       "    </tr>\n",
       "    <tr>\n",
       "      <th>Burnley FC</th>\n",
       "      <td>19</td>\n",
       "      <td>3</td>\n",
       "      <td>10</td>\n",
       "      <td>6</td>\n",
       "      <td>19</td>\n",
       "      <td>39</td>\n",
       "    </tr>\n",
       "    <tr>\n",
       "      <th>Leeds United</th>\n",
       "      <td>19</td>\n",
       "      <td>3</td>\n",
       "      <td>7</td>\n",
       "      <td>9</td>\n",
       "      <td>16</td>\n",
       "      <td>38</td>\n",
       "    </tr>\n",
       "    <tr>\n",
       "      <th>Watford FC</th>\n",
       "      <td>19</td>\n",
       "      <td>4</td>\n",
       "      <td>2</td>\n",
       "      <td>13</td>\n",
       "      <td>14</td>\n",
       "      <td>35</td>\n",
       "    </tr>\n",
       "    <tr>\n",
       "      <th>Newcastle United</th>\n",
       "      <td>19</td>\n",
       "      <td>1</td>\n",
       "      <td>8</td>\n",
       "      <td>10</td>\n",
       "      <td>11</td>\n",
       "      <td>23</td>\n",
       "    </tr>\n",
       "    <tr>\n",
       "      <th>Norwich City</th>\n",
       "      <td>19</td>\n",
       "      <td>2</td>\n",
       "      <td>4</td>\n",
       "      <td>13</td>\n",
       "      <td>10</td>\n",
       "      <td>22</td>\n",
       "    </tr>\n",
       "  </tbody>\n",
       "</table>\n",
       "</div>"
      ],
      "text/plain": [
       "                         Games  wins  Draws  Lost  Points  PES\n",
       "Team                                                          \n",
       "Manchester City             19    15      2     2      47   93\n",
       "Liverpool FC                19    13      5     1      44   92\n",
       "Chelsea FC                  19    12      5     2      41   74\n",
       "Arsenal FC                  19    11      2     6      35   71\n",
       "Tottenham Hotspur           19    11      2     6      35   69\n",
       "Manchester United           19    10      4     5      34   58\n",
       "West Ham United             19     9      4     6      31   56\n",
       "Wolverhampton Wanderers     19     8      4     7      28   52\n",
       "Crystal Palace              19     5      8     6      23   51\n",
       "Leicester City              19     6      5     8      23   51\n",
       "Aston Villa                 19     7      2    10      23   49\n",
       "Brighton & Hove Albion      19     5      8     6      23   48\n",
       "Southampton FC              19     5      8     6      23   46\n",
       "Brentford FC                19     5      5     9      20   45\n",
       "Everton FC                  19     5      5     9      20   40\n",
       "Burnley FC                  19     3     10     6      19   39\n",
       "Leeds United                19     3      7     9      16   38\n",
       "Watford FC                  19     4      2    13      14   35\n",
       "Newcastle United            19     1      8    10      11   23\n",
       "Norwich City                19     2      4    13      10   22"
      ]
     },
     "execution_count": 4,
     "metadata": {},
     "output_type": "execute_result"
    }
   ],
   "source": [
    "Data_premier"
   ]
  },
  {
   "cell_type": "markdown",
   "id": "103c7c74-332c-4eb6-ab7d-443e942fdc90",
   "metadata": {},
   "source": [
    "## `LinearRegression()` Model in Python"
   ]
  },
  {
   "cell_type": "code",
   "execution_count": 11,
   "id": "8f33d17d-336e-47e7-931a-639e4618eb49",
   "metadata": {},
   "outputs": [],
   "source": [
    "from sklearn.linear_model import LinearRegression\n",
    "model_lr = LinearRegression()"
   ]
  },
  {
   "cell_type": "markdown",
   "id": "9cac8fe7-3c2a-4398-9799-5929f0ff0597",
   "metadata": {},
   "source": [
    "### Separate the variables"
   ]
  },
  {
   "cell_type": "code",
   "execution_count": 12,
   "id": "d92da567-f75c-45dc-89d0-eafe1ffc4a31",
   "metadata": {},
   "outputs": [],
   "source": [
    "target = Data_premier['Points']\n",
    "features = Data_premier[['wins','Draws']]"
   ]
  },
  {
   "cell_type": "markdown",
   "id": "05e0f410-6e5b-4cf3-a044-d67f2093bffb",
   "metadata": {},
   "source": [
    "### Fit the Model"
   ]
  },
  {
   "cell_type": "code",
   "execution_count": 13,
   "id": "fba13686-5144-476d-aa70-946b72a99672",
   "metadata": {},
   "outputs": [
    {
     "data": {
      "text/plain": [
       "LinearRegression()"
      ]
     },
     "execution_count": 13,
     "metadata": {},
     "output_type": "execute_result"
    }
   ],
   "source": [
    "model_lr.fit(X=features, y=target)"
   ]
  },
  {
   "cell_type": "markdown",
   "id": "6d58205f-4362-4f8d-b7bb-bbc2baaa8f64",
   "metadata": {},
   "source": [
    "### Predictions"
   ]
  },
  {
   "cell_type": "markdown",
   "id": "c7d010f3-8917-4bf1-a687-d9ed7c3461a4",
   "metadata": {},
   "source": [
    "### Calculate predictions"
   ]
  },
  {
   "cell_type": "code",
   "execution_count": 14,
   "id": "7fcd0a7d-7d80-4595-bcdf-b11932004260",
   "metadata": {},
   "outputs": [
    {
     "data": {
      "text/plain": [
       "array([47., 44., 41., 35., 35., 34., 31., 28., 23., 23., 23., 23., 23.,\n",
       "       20., 20., 19., 16., 14., 11., 10.])"
      ]
     },
     "execution_count": 14,
     "metadata": {},
     "output_type": "execute_result"
    }
   ],
   "source": [
    "model_lr.predict(X= features)"
   ]
  },
  {
   "cell_type": "markdown",
   "id": "25774f92-073c-4bdf-94f4-3f908a45aea0",
   "metadata": {},
   "source": [
    "### Add a new column to the dataFrame"
   ]
  },
  {
   "cell_type": "code",
   "execution_count": 17,
   "id": "5ab22d33-a33c-4e52-bbd9-599ec99735d0",
   "metadata": {},
   "outputs": [],
   "source": [
    "Data_premier['pred_lr'] = model_lr.predict(X= features)"
   ]
  },
  {
   "cell_type": "code",
   "execution_count": 197,
   "id": "28de871b-59bc-421c-af7e-61b0a4e461ae",
   "metadata": {},
   "outputs": [
    {
     "data": {
      "text/html": [
       "<div>\n",
       "<style scoped>\n",
       "    .dataframe tbody tr th:only-of-type {\n",
       "        vertical-align: middle;\n",
       "    }\n",
       "\n",
       "    .dataframe tbody tr th {\n",
       "        vertical-align: top;\n",
       "    }\n",
       "\n",
       "    .dataframe thead th {\n",
       "        text-align: right;\n",
       "    }\n",
       "</style>\n",
       "<table border=\"1\" class=\"dataframe\">\n",
       "  <thead>\n",
       "    <tr style=\"text-align: right;\">\n",
       "      <th></th>\n",
       "      <th>Games</th>\n",
       "      <th>wins</th>\n",
       "      <th>Draws</th>\n",
       "      <th>Lost</th>\n",
       "      <th>Points</th>\n",
       "      <th>PES</th>\n",
       "      <th>pred_lr</th>\n",
       "      <th>pred_rf</th>\n",
       "      <th>pred_sv</th>\n",
       "    </tr>\n",
       "    <tr>\n",
       "      <th>Team</th>\n",
       "      <th></th>\n",
       "      <th></th>\n",
       "      <th></th>\n",
       "      <th></th>\n",
       "      <th></th>\n",
       "      <th></th>\n",
       "      <th></th>\n",
       "      <th></th>\n",
       "      <th></th>\n",
       "    </tr>\n",
       "  </thead>\n",
       "  <tbody>\n",
       "    <tr>\n",
       "      <th>Manchester City</th>\n",
       "      <td>19</td>\n",
       "      <td>15</td>\n",
       "      <td>2</td>\n",
       "      <td>2</td>\n",
       "      <td>47</td>\n",
       "      <td>93</td>\n",
       "      <td>47.170068</td>\n",
       "      <td>45.010000</td>\n",
       "      <td>30.419988</td>\n",
       "    </tr>\n",
       "    <tr>\n",
       "      <th>Liverpool FC</th>\n",
       "      <td>19</td>\n",
       "      <td>13</td>\n",
       "      <td>5</td>\n",
       "      <td>1</td>\n",
       "      <td>44</td>\n",
       "      <td>92</td>\n",
       "      <td>41.877551</td>\n",
       "      <td>42.160000</td>\n",
       "      <td>32.160731</td>\n",
       "    </tr>\n",
       "    <tr>\n",
       "      <th>Chelsea FC</th>\n",
       "      <td>19</td>\n",
       "      <td>12</td>\n",
       "      <td>5</td>\n",
       "      <td>2</td>\n",
       "      <td>41</td>\n",
       "      <td>74</td>\n",
       "      <td>39.231293</td>\n",
       "      <td>39.220000</td>\n",
       "      <td>32.548425</td>\n",
       "    </tr>\n",
       "    <tr>\n",
       "      <th>Arsenal FC</th>\n",
       "      <td>19</td>\n",
       "      <td>11</td>\n",
       "      <td>2</td>\n",
       "      <td>6</td>\n",
       "      <td>35</td>\n",
       "      <td>71</td>\n",
       "      <td>36.585034</td>\n",
       "      <td>35.180000</td>\n",
       "      <td>32.333857</td>\n",
       "    </tr>\n",
       "    <tr>\n",
       "      <th>Tottenham Hotspur</th>\n",
       "      <td>19</td>\n",
       "      <td>11</td>\n",
       "      <td>2</td>\n",
       "      <td>6</td>\n",
       "      <td>35</td>\n",
       "      <td>69</td>\n",
       "      <td>36.585034</td>\n",
       "      <td>35.180000</td>\n",
       "      <td>32.333857</td>\n",
       "    </tr>\n",
       "    <tr>\n",
       "      <th>Manchester United</th>\n",
       "      <td>19</td>\n",
       "      <td>10</td>\n",
       "      <td>4</td>\n",
       "      <td>5</td>\n",
       "      <td>34</td>\n",
       "      <td>58</td>\n",
       "      <td>33.938776</td>\n",
       "      <td>33.290000</td>\n",
       "      <td>31.426610</td>\n",
       "    </tr>\n",
       "    <tr>\n",
       "      <th>West Ham United</th>\n",
       "      <td>19</td>\n",
       "      <td>9</td>\n",
       "      <td>4</td>\n",
       "      <td>6</td>\n",
       "      <td>31</td>\n",
       "      <td>56</td>\n",
       "      <td>31.292517</td>\n",
       "      <td>30.330000</td>\n",
       "      <td>29.906226</td>\n",
       "    </tr>\n",
       "    <tr>\n",
       "      <th>Wolverhampton Wanderers</th>\n",
       "      <td>19</td>\n",
       "      <td>8</td>\n",
       "      <td>4</td>\n",
       "      <td>7</td>\n",
       "      <td>28</td>\n",
       "      <td>52</td>\n",
       "      <td>28.646259</td>\n",
       "      <td>26.976000</td>\n",
       "      <td>28.006274</td>\n",
       "    </tr>\n",
       "    <tr>\n",
       "      <th>Crystal Palace</th>\n",
       "      <td>19</td>\n",
       "      <td>5</td>\n",
       "      <td>8</td>\n",
       "      <td>6</td>\n",
       "      <td>23</td>\n",
       "      <td>51</td>\n",
       "      <td>20.707483</td>\n",
       "      <td>21.766488</td>\n",
       "      <td>22.900000</td>\n",
       "    </tr>\n",
       "    <tr>\n",
       "      <th>Leicester City</th>\n",
       "      <td>19</td>\n",
       "      <td>6</td>\n",
       "      <td>5</td>\n",
       "      <td>8</td>\n",
       "      <td>23</td>\n",
       "      <td>51</td>\n",
       "      <td>23.353741</td>\n",
       "      <td>22.426012</td>\n",
       "      <td>24.261472</td>\n",
       "    </tr>\n",
       "    <tr>\n",
       "      <th>Aston Villa</th>\n",
       "      <td>19</td>\n",
       "      <td>7</td>\n",
       "      <td>2</td>\n",
       "      <td>10</td>\n",
       "      <td>23</td>\n",
       "      <td>49</td>\n",
       "      <td>26.000000</td>\n",
       "      <td>23.545143</td>\n",
       "      <td>26.031345</td>\n",
       "    </tr>\n",
       "    <tr>\n",
       "      <th>Brighton &amp; Hove Albion</th>\n",
       "      <td>19</td>\n",
       "      <td>5</td>\n",
       "      <td>8</td>\n",
       "      <td>6</td>\n",
       "      <td>23</td>\n",
       "      <td>48</td>\n",
       "      <td>20.707483</td>\n",
       "      <td>21.766488</td>\n",
       "      <td>22.900000</td>\n",
       "    </tr>\n",
       "    <tr>\n",
       "      <th>Southampton FC</th>\n",
       "      <td>19</td>\n",
       "      <td>5</td>\n",
       "      <td>8</td>\n",
       "      <td>6</td>\n",
       "      <td>23</td>\n",
       "      <td>46</td>\n",
       "      <td>20.707483</td>\n",
       "      <td>21.766488</td>\n",
       "      <td>22.900000</td>\n",
       "    </tr>\n",
       "    <tr>\n",
       "      <th>Brentford FC</th>\n",
       "      <td>19</td>\n",
       "      <td>5</td>\n",
       "      <td>5</td>\n",
       "      <td>9</td>\n",
       "      <td>20</td>\n",
       "      <td>45</td>\n",
       "      <td>20.707483</td>\n",
       "      <td>21.766488</td>\n",
       "      <td>22.900000</td>\n",
       "    </tr>\n",
       "    <tr>\n",
       "      <th>Everton FC</th>\n",
       "      <td>19</td>\n",
       "      <td>5</td>\n",
       "      <td>5</td>\n",
       "      <td>9</td>\n",
       "      <td>20</td>\n",
       "      <td>40</td>\n",
       "      <td>20.707483</td>\n",
       "      <td>21.766488</td>\n",
       "      <td>22.900000</td>\n",
       "    </tr>\n",
       "    <tr>\n",
       "      <th>Burnley FC</th>\n",
       "      <td>19</td>\n",
       "      <td>3</td>\n",
       "      <td>10</td>\n",
       "      <td>6</td>\n",
       "      <td>19</td>\n",
       "      <td>39</td>\n",
       "      <td>15.414966</td>\n",
       "      <td>16.586500</td>\n",
       "      <td>21.834818</td>\n",
       "    </tr>\n",
       "    <tr>\n",
       "      <th>Leeds United</th>\n",
       "      <td>19</td>\n",
       "      <td>3</td>\n",
       "      <td>7</td>\n",
       "      <td>9</td>\n",
       "      <td>16</td>\n",
       "      <td>38</td>\n",
       "      <td>15.414966</td>\n",
       "      <td>16.586500</td>\n",
       "      <td>21.834818</td>\n",
       "    </tr>\n",
       "    <tr>\n",
       "      <th>Watford FC</th>\n",
       "      <td>19</td>\n",
       "      <td>4</td>\n",
       "      <td>2</td>\n",
       "      <td>13</td>\n",
       "      <td>14</td>\n",
       "      <td>35</td>\n",
       "      <td>18.061224</td>\n",
       "      <td>15.208357</td>\n",
       "      <td>22.072132</td>\n",
       "    </tr>\n",
       "    <tr>\n",
       "      <th>Newcastle United</th>\n",
       "      <td>19</td>\n",
       "      <td>1</td>\n",
       "      <td>8</td>\n",
       "      <td>10</td>\n",
       "      <td>11</td>\n",
       "      <td>23</td>\n",
       "      <td>10.122449</td>\n",
       "      <td>11.492500</td>\n",
       "      <td>22.941548</td>\n",
       "    </tr>\n",
       "    <tr>\n",
       "      <th>Norwich City</th>\n",
       "      <td>19</td>\n",
       "      <td>2</td>\n",
       "      <td>4</td>\n",
       "      <td>13</td>\n",
       "      <td>10</td>\n",
       "      <td>22</td>\n",
       "      <td>12.768707</td>\n",
       "      <td>11.102500</td>\n",
       "      <td>22.165182</td>\n",
       "    </tr>\n",
       "  </tbody>\n",
       "</table>\n",
       "</div>"
      ],
      "text/plain": [
       "                         Games  wins  Draws  Lost  Points  PES    pred_lr  \\\n",
       "Team                                                                        \n",
       "Manchester City             19    15      2     2      47   93  47.170068   \n",
       "Liverpool FC                19    13      5     1      44   92  41.877551   \n",
       "Chelsea FC                  19    12      5     2      41   74  39.231293   \n",
       "Arsenal FC                  19    11      2     6      35   71  36.585034   \n",
       "Tottenham Hotspur           19    11      2     6      35   69  36.585034   \n",
       "Manchester United           19    10      4     5      34   58  33.938776   \n",
       "West Ham United             19     9      4     6      31   56  31.292517   \n",
       "Wolverhampton Wanderers     19     8      4     7      28   52  28.646259   \n",
       "Crystal Palace              19     5      8     6      23   51  20.707483   \n",
       "Leicester City              19     6      5     8      23   51  23.353741   \n",
       "Aston Villa                 19     7      2    10      23   49  26.000000   \n",
       "Brighton & Hove Albion      19     5      8     6      23   48  20.707483   \n",
       "Southampton FC              19     5      8     6      23   46  20.707483   \n",
       "Brentford FC                19     5      5     9      20   45  20.707483   \n",
       "Everton FC                  19     5      5     9      20   40  20.707483   \n",
       "Burnley FC                  19     3     10     6      19   39  15.414966   \n",
       "Leeds United                19     3      7     9      16   38  15.414966   \n",
       "Watford FC                  19     4      2    13      14   35  18.061224   \n",
       "Newcastle United            19     1      8    10      11   23  10.122449   \n",
       "Norwich City                19     2      4    13      10   22  12.768707   \n",
       "\n",
       "                           pred_rf    pred_sv  \n",
       "Team                                           \n",
       "Manchester City          45.010000  30.419988  \n",
       "Liverpool FC             42.160000  32.160731  \n",
       "Chelsea FC               39.220000  32.548425  \n",
       "Arsenal FC               35.180000  32.333857  \n",
       "Tottenham Hotspur        35.180000  32.333857  \n",
       "Manchester United        33.290000  31.426610  \n",
       "West Ham United          30.330000  29.906226  \n",
       "Wolverhampton Wanderers  26.976000  28.006274  \n",
       "Crystal Palace           21.766488  22.900000  \n",
       "Leicester City           22.426012  24.261472  \n",
       "Aston Villa              23.545143  26.031345  \n",
       "Brighton & Hove Albion   21.766488  22.900000  \n",
       "Southampton FC           21.766488  22.900000  \n",
       "Brentford FC             21.766488  22.900000  \n",
       "Everton FC               21.766488  22.900000  \n",
       "Burnley FC               16.586500  21.834818  \n",
       "Leeds United             16.586500  21.834818  \n",
       "Watford FC               15.208357  22.072132  \n",
       "Newcastle United         11.492500  22.941548  \n",
       "Norwich City             11.102500  22.165182  "
      ]
     },
     "execution_count": 197,
     "metadata": {},
     "output_type": "execute_result"
    }
   ],
   "source": [
    "Data_premier"
   ]
  },
  {
   "cell_type": "markdown",
   "id": "8e5b8991-87c3-4743-88c9-10751c2ebb86",
   "metadata": {},
   "source": [
    "### Model visualization"
   ]
  },
  {
   "cell_type": "code",
   "execution_count": 18,
   "id": "94afea0b-2289-43d4-af60-6f49394ed991",
   "metadata": {},
   "outputs": [],
   "source": [
    "import seaborn as sns"
   ]
  },
  {
   "cell_type": "code",
   "execution_count": 20,
   "id": "8acd8806-fd32-46e7-ab24-a7e1e20f88b2",
   "metadata": {},
   "outputs": [
    {
     "data": {
      "text/plain": [
       "<AxesSubplot:xlabel='wins', ylabel='Points'>"
      ]
     },
     "execution_count": 20,
     "metadata": {},
     "output_type": "execute_result"
    },
    {
     "data": {
      "image/png": "[encoded data removed]",
      "text/plain": [
       "<Figure size 432x288 with 1 Axes>"
      ]
     },
     "metadata": {
      "needs_background": "light"
     },
     "output_type": "display_data"
    }
   ],
   "source": [
    "sns.scatterplot(x=Data_premier.wins, y=Data_premier.Points,label='Real Data')\n",
    "sns.scatterplot(x=Data_premier.wins, y=Data_premier.pred_lr,label='Linear Regression')\n",
    "sns.lineplot(x=Data_premier.wins, y=Data_premier.pred_lr, color='orange')"
   ]
  },
  {
   "cell_type": "markdown",
   "id": "8f549003-aa52-4f9e-8ceb-f4909ceffb7b",
   "metadata": {},
   "source": [
    "## Model Score"
   ]
  },
  {
   "cell_type": "code",
   "execution_count": 146,
   "id": "476ea28f-be58-4b5e-accd-efa28b5d002f",
   "metadata": {},
   "outputs": [
    {
     "data": {
      "text/plain": [
       "0.9638525822313945"
      ]
     },
     "execution_count": 146,
     "metadata": {},
     "output_type": "execute_result"
    }
   ],
   "source": [
    "model_lr.score(X=features,y=target)"
   ]
  },
  {
   "cell_type": "markdown",
   "id": "3bfd19d3-179b-4459-a637-1a2324a34bdc",
   "metadata": {},
   "source": [
    "### How to Explain the score"
   ]
  },
  {
   "cell_type": "markdown",
   "id": "dc2cf3a7-d1d9-488b-a064-442f19c5a7b8",
   "metadata": {},
   "source": [
    "#### The Residuals"
   ]
  },
  {
   "cell_type": "code",
   "execution_count": 147,
   "id": "3c991fcc-c408-4c8a-b5e7-a8be0f36337e",
   "metadata": {},
   "outputs": [],
   "source": [
    "Data_premier['Residuals']= Data_premier.Points - Data_premier.pred_lr"
   ]
  },
  {
   "cell_type": "code",
   "execution_count": 148,
   "id": "fc0a8bc7-a7a8-4b47-bddf-501b4e492099",
   "metadata": {},
   "outputs": [
    {
     "data": {
      "text/plain": [
       "-0.0"
      ]
     },
     "execution_count": 148,
     "metadata": {},
     "output_type": "execute_result"
    }
   ],
   "source": [
    "Data_premier.Residuals.sum().round(2)"
   ]
  },
  {
   "cell_type": "code",
   "execution_count": 149,
   "id": "98ad52d3-c10c-4993-9b44-8b5788cffe1c",
   "metadata": {},
   "outputs": [],
   "source": [
    "Data_premier['Residuals2']= Data_premier.Residuals**2"
   ]
  },
  {
   "cell_type": "code",
   "execution_count": 150,
   "id": "3b122479-2db4-4877-b616-70456113219c",
   "metadata": {},
   "outputs": [],
   "source": [
    "RSS = Data_premier.Residuals2.sum()"
   ]
  },
  {
   "cell_type": "markdown",
   "id": "d1a8e66d-695d-4d14-a064-bec96c4806e2",
   "metadata": {},
   "source": [
    "### Target Variation"
   ]
  },
  {
   "cell_type": "code",
   "execution_count": 189,
   "id": "5e9f2738-5743-4bd3-ae21-84acd5560109",
   "metadata": {},
   "outputs": [
    {
     "data": {
      "text/plain": [
       "2136.0"
      ]
     },
     "execution_count": 189,
     "metadata": {},
     "output_type": "execute_result"
    }
   ],
   "source": [
    "TSS = ((Data_premier.Points - Data_premier.Points.mean())**2).sum()\n",
    "TSS"
   ]
  },
  {
   "cell_type": "markdown",
   "id": "37ea5ff5-a0bb-4e92-933f-baf949a24f08",
   "metadata": {},
   "source": [
    "### The Ratio (HOW BAD IS MY MODEL)"
   ]
  },
  {
   "cell_type": "code",
   "execution_count": 152,
   "id": "7c881820-5339-467a-b469-903a6fa61f0a",
   "metadata": {},
   "outputs": [
    {
     "data": {
      "text/plain": [
       "0.036147417768605576"
      ]
     },
     "execution_count": 152,
     "metadata": {},
     "output_type": "execute_result"
    }
   ],
   "source": [
    "RSS/TSS"
   ]
  },
  {
   "cell_type": "markdown",
   "id": "7f2082cd-02f1-43a5-91ab-74169d7d1892",
   "metadata": {},
   "source": [
    "### how good is my model which is the same that we got with the score function"
   ]
  },
  {
   "cell_type": "code",
   "execution_count": 153,
   "id": "81c8eb9f-cf97-47e5-823c-144bdd272237",
   "metadata": {},
   "outputs": [
    {
     "data": {
      "text/plain": [
       "0.9638525822313945"
      ]
     },
     "execution_count": 153,
     "metadata": {},
     "output_type": "execute_result"
    }
   ],
   "source": [
    "1 - RSS/TSS"
   ]
  },
  {
   "cell_type": "code",
   "execution_count": 154,
   "id": "533f6ddb-09fe-4b34-b5ca-1a1ff7c9201c",
   "metadata": {},
   "outputs": [
    {
     "data": {
      "text/plain": [
       "0.9638525822313945"
      ]
     },
     "execution_count": 154,
     "metadata": {},
     "output_type": "execute_result"
    }
   ],
   "source": [
    "df_premier.score(X=features,y=target)"
   ]
  },
  {
   "cell_type": "code",
   "execution_count": 31,
   "id": "2d84cc34-e668-404f-a5bf-b4a768cd8c4b",
   "metadata": {},
   "outputs": [],
   "source": [
    "# the model is able to explain 96% of the variability of the points"
   ]
  },
  {
   "cell_type": "markdown",
   "id": "718a8c08-7756-47c8-a3e9-f16ec9be503d",
   "metadata": {},
   "source": [
    "### Model interpretation"
   ]
  },
  {
   "cell_type": "code",
   "execution_count": 155,
   "id": "3eee19f6-bd99-4fbb-8af7-6586e77fe6ed",
   "metadata": {},
   "outputs": [
    {
     "data": {
      "text/plain": [
       "array([2.6462585])"
      ]
     },
     "execution_count": 155,
     "metadata": {},
     "output_type": "execute_result"
    }
   ],
   "source": [
    "df_premier.coef_"
   ]
  },
  {
   "cell_type": "code",
   "execution_count": 156,
   "id": "a7667a71-4e57-4c10-8e2c-1fd2512abc48",
   "metadata": {},
   "outputs": [
    {
     "data": {
      "text/plain": [
       "7.476190476190471"
      ]
     },
     "execution_count": 156,
     "metadata": {},
     "output_type": "execute_result"
    }
   ],
   "source": [
    "df_premier.intercept_"
   ]
  },
  {
   "cell_type": "code",
   "execution_count": 157,
   "id": "e489ea1e-9705-48db-9d9f-60a50e3e095f",
   "metadata": {},
   "outputs": [],
   "source": [
    "Points = (7.47) + (2.64) * Data_premier.wins"
   ]
  },
  {
   "cell_type": "code",
   "execution_count": 158,
   "id": "6b35c040-cd21-4cfe-a94e-ed6a6ef0f217",
   "metadata": {},
   "outputs": [
    {
     "data": {
      "text/html": [
       "<div>\n",
       "<style scoped>\n",
       "    .dataframe tbody tr th:only-of-type {\n",
       "        vertical-align: middle;\n",
       "    }\n",
       "\n",
       "    .dataframe tbody tr th {\n",
       "        vertical-align: top;\n",
       "    }\n",
       "\n",
       "    .dataframe thead th {\n",
       "        text-align: right;\n",
       "    }\n",
       "</style>\n",
       "<table border=\"1\" class=\"dataframe\">\n",
       "  <thead>\n",
       "    <tr style=\"text-align: right;\">\n",
       "      <th></th>\n",
       "      <th>wins</th>\n",
       "    </tr>\n",
       "  </thead>\n",
       "  <tbody>\n",
       "    <tr>\n",
       "      <th>0</th>\n",
       "      <td>1</td>\n",
       "    </tr>\n",
       "    <tr>\n",
       "      <th>1</th>\n",
       "      <td>2</td>\n",
       "    </tr>\n",
       "    <tr>\n",
       "      <th>2</th>\n",
       "      <td>3</td>\n",
       "    </tr>\n",
       "    <tr>\n",
       "      <th>3</th>\n",
       "      <td>4</td>\n",
       "    </tr>\n",
       "    <tr>\n",
       "      <th>4</th>\n",
       "      <td>5</td>\n",
       "    </tr>\n",
       "  </tbody>\n",
       "</table>\n",
       "</div>"
      ],
      "text/plain": [
       "   wins\n",
       "0     1\n",
       "1     2\n",
       "2     3\n",
       "3     4\n",
       "4     5"
      ]
     },
     "execution_count": 158,
     "metadata": {},
     "output_type": "execute_result"
    }
   ],
   "source": [
    "df_to_pred = pd.DataFrame({'wins':[1,2,3,4,5]})\n",
    "df_to_pred = df_to_pred.fillna(0)\n",
    "df_to_pred"
   ]
  },
  {
   "cell_type": "code",
   "execution_count": 159,
   "id": "771ba5b0-2e9a-4f82-b332-88036674d634",
   "metadata": {},
   "outputs": [
    {
     "ename": "ValueError",
     "evalue": "Length of values (2) does not match length of index (5)",
     "output_type": "error",
     "traceback": [
      "\u001b[0;31m---------------------------------------------------------------------------\u001b[0m",
      "\u001b[0;31mValueError\u001b[0m                                Traceback (most recent call last)",
      "\u001b[0;32m<ipython-input-159-4ed1874b73a7>\u001b[0m in \u001b[0;36m<module>\u001b[0;34m\u001b[0m\n\u001b[0;32m----> 1\u001b[0;31m \u001b[0mdf_to_pred\u001b[0m \u001b[0;34m[\u001b[0m\u001b[0;34m'pred'\u001b[0m\u001b[0;34m]\u001b[0m \u001b[0;34m=\u001b[0m \u001b[0;36m7.47\u001b[0m \u001b[0;34m+\u001b[0m \u001b[0;36m2\u001b[0m\u001b[0;34m,\u001b[0m\u001b[0;36m64\u001b[0m \u001b[0;34m*\u001b[0m \u001b[0mdf_to_pred\u001b[0m\u001b[0;34m.\u001b[0m\u001b[0mwins\u001b[0m\u001b[0;34m\u001b[0m\u001b[0;34m\u001b[0m\u001b[0m\n\u001b[0m",
      "\u001b[0;32m~/anaconda3/lib/python3.8/site-packages/pandas/core/frame.py\u001b[0m in \u001b[0;36m__setitem__\u001b[0;34m(self, key, value)\u001b[0m\n\u001b[1;32m   3161\u001b[0m         \u001b[0;32melse\u001b[0m\u001b[0;34m:\u001b[0m\u001b[0;34m\u001b[0m\u001b[0;34m\u001b[0m\u001b[0m\n\u001b[1;32m   3162\u001b[0m             \u001b[0;31m# set column\u001b[0m\u001b[0;34m\u001b[0m\u001b[0;34m\u001b[0m\u001b[0;34m\u001b[0m\u001b[0m\n\u001b[0;32m-> 3163\u001b[0;31m             \u001b[0mself\u001b[0m\u001b[0;34m.\u001b[0m\u001b[0m_set_item\u001b[0m\u001b[0;34m(\u001b[0m\u001b[0mkey\u001b[0m\u001b[0;34m,\u001b[0m \u001b[0mvalue\u001b[0m\u001b[0;34m)\u001b[0m\u001b[0;34m\u001b[0m\u001b[0;34m\u001b[0m\u001b[0m\n\u001b[0m\u001b[1;32m   3164\u001b[0m \u001b[0;34m\u001b[0m\u001b[0m\n\u001b[1;32m   3165\u001b[0m     \u001b[0;32mdef\u001b[0m \u001b[0m_setitem_slice\u001b[0m\u001b[0;34m(\u001b[0m\u001b[0mself\u001b[0m\u001b[0;34m,\u001b[0m \u001b[0mkey\u001b[0m\u001b[0;34m:\u001b[0m \u001b[0mslice\u001b[0m\u001b[0;34m,\u001b[0m \u001b[0mvalue\u001b[0m\u001b[0;34m)\u001b[0m\u001b[0;34m:\u001b[0m\u001b[0;34m\u001b[0m\u001b[0;34m\u001b[0m\u001b[0m\n",
      "\u001b[0;32m~/anaconda3/lib/python3.8/site-packages/pandas/core/frame.py\u001b[0m in \u001b[0;36m_set_item\u001b[0;34m(self, key, value)\u001b[0m\n\u001b[1;32m   3240\u001b[0m         \"\"\"\n\u001b[1;32m   3241\u001b[0m         \u001b[0mself\u001b[0m\u001b[0;34m.\u001b[0m\u001b[0m_ensure_valid_index\u001b[0m\u001b[0;34m(\u001b[0m\u001b[0mvalue\u001b[0m\u001b[0;34m)\u001b[0m\u001b[0;34m\u001b[0m\u001b[0;34m\u001b[0m\u001b[0m\n\u001b[0;32m-> 3242\u001b[0;31m         \u001b[0mvalue\u001b[0m \u001b[0;34m=\u001b[0m \u001b[0mself\u001b[0m\u001b[0;34m.\u001b[0m\u001b[0m_sanitize_column\u001b[0m\u001b[0;34m(\u001b[0m\u001b[0mkey\u001b[0m\u001b[0;34m,\u001b[0m \u001b[0mvalue\u001b[0m\u001b[0;34m)\u001b[0m\u001b[0;34m\u001b[0m\u001b[0;34m\u001b[0m\u001b[0m\n\u001b[0m\u001b[1;32m   3243\u001b[0m         \u001b[0mNDFrame\u001b[0m\u001b[0;34m.\u001b[0m\u001b[0m_set_item\u001b[0m\u001b[0;34m(\u001b[0m\u001b[0mself\u001b[0m\u001b[0;34m,\u001b[0m \u001b[0mkey\u001b[0m\u001b[0;34m,\u001b[0m \u001b[0mvalue\u001b[0m\u001b[0;34m)\u001b[0m\u001b[0;34m\u001b[0m\u001b[0;34m\u001b[0m\u001b[0m\n\u001b[1;32m   3244\u001b[0m \u001b[0;34m\u001b[0m\u001b[0m\n",
      "\u001b[0;32m~/anaconda3/lib/python3.8/site-packages/pandas/core/frame.py\u001b[0m in \u001b[0;36m_sanitize_column\u001b[0;34m(self, key, value, broadcast)\u001b[0m\n\u001b[1;32m   3897\u001b[0m \u001b[0;34m\u001b[0m\u001b[0m\n\u001b[1;32m   3898\u001b[0m             \u001b[0;31m# turn me into an ndarray\u001b[0m\u001b[0;34m\u001b[0m\u001b[0;34m\u001b[0m\u001b[0;34m\u001b[0m\u001b[0m\n\u001b[0;32m-> 3899\u001b[0;31m             \u001b[0mvalue\u001b[0m \u001b[0;34m=\u001b[0m \u001b[0msanitize_index\u001b[0m\u001b[0;34m(\u001b[0m\u001b[0mvalue\u001b[0m\u001b[0;34m,\u001b[0m \u001b[0mself\u001b[0m\u001b[0;34m.\u001b[0m\u001b[0mindex\u001b[0m\u001b[0;34m)\u001b[0m\u001b[0;34m\u001b[0m\u001b[0;34m\u001b[0m\u001b[0m\n\u001b[0m\u001b[1;32m   3900\u001b[0m             \u001b[0;32mif\u001b[0m \u001b[0;32mnot\u001b[0m \u001b[0misinstance\u001b[0m\u001b[0;34m(\u001b[0m\u001b[0mvalue\u001b[0m\u001b[0;34m,\u001b[0m \u001b[0;34m(\u001b[0m\u001b[0mnp\u001b[0m\u001b[0;34m.\u001b[0m\u001b[0mndarray\u001b[0m\u001b[0;34m,\u001b[0m \u001b[0mIndex\u001b[0m\u001b[0;34m)\u001b[0m\u001b[0;34m)\u001b[0m\u001b[0;34m:\u001b[0m\u001b[0;34m\u001b[0m\u001b[0;34m\u001b[0m\u001b[0m\n\u001b[1;32m   3901\u001b[0m                 \u001b[0;32mif\u001b[0m \u001b[0misinstance\u001b[0m\u001b[0;34m(\u001b[0m\u001b[0mvalue\u001b[0m\u001b[0;34m,\u001b[0m \u001b[0mlist\u001b[0m\u001b[0;34m)\u001b[0m \u001b[0;32mand\u001b[0m \u001b[0mlen\u001b[0m\u001b[0;34m(\u001b[0m\u001b[0mvalue\u001b[0m\u001b[0;34m)\u001b[0m \u001b[0;34m>\u001b[0m \u001b[0;36m0\u001b[0m\u001b[0;34m:\u001b[0m\u001b[0;34m\u001b[0m\u001b[0;34m\u001b[0m\u001b[0m\n",
      "\u001b[0;32m~/anaconda3/lib/python3.8/site-packages/pandas/core/internals/construction.py\u001b[0m in \u001b[0;36msanitize_index\u001b[0;34m(data, index)\u001b[0m\n\u001b[1;32m    749\u001b[0m     \"\"\"\n\u001b[1;32m    750\u001b[0m     \u001b[0;32mif\u001b[0m \u001b[0mlen\u001b[0m\u001b[0;34m(\u001b[0m\u001b[0mdata\u001b[0m\u001b[0;34m)\u001b[0m \u001b[0;34m!=\u001b[0m \u001b[0mlen\u001b[0m\u001b[0;34m(\u001b[0m\u001b[0mindex\u001b[0m\u001b[0;34m)\u001b[0m\u001b[0;34m:\u001b[0m\u001b[0;34m\u001b[0m\u001b[0;34m\u001b[0m\u001b[0m\n\u001b[0;32m--> 751\u001b[0;31m         raise ValueError(\n\u001b[0m\u001b[1;32m    752\u001b[0m             \u001b[0;34m\"Length of values \"\u001b[0m\u001b[0;34m\u001b[0m\u001b[0;34m\u001b[0m\u001b[0m\n\u001b[1;32m    753\u001b[0m             \u001b[0;34mf\"({len(data)}) \"\u001b[0m\u001b[0;34m\u001b[0m\u001b[0;34m\u001b[0m\u001b[0m\n",
      "\u001b[0;31mValueError\u001b[0m: Length of values (2) does not match length of index (5)"
     ]
    }
   ],
   "source": [
    "df_to_pred ['pred'] = 7.47 + 2,64 * df_to_pred.wins"
   ]
  },
  {
   "cell_type": "markdown",
   "id": "72a34a32-2485-4828-80c8-7d88b7457665",
   "metadata": {},
   "source": [
    "## RandomForestRegressor() in Python"
   ]
  },
  {
   "cell_type": "markdown",
   "id": "e3e8d3a4-492b-4863-a0eb-18f4f6ec341c",
   "metadata": {},
   "source": [
    "### Fit the model"
   ]
  },
  {
   "cell_type": "code",
   "execution_count": 160,
   "id": "491b0ea7-8459-4cf0-8b65-e548bcadd75e",
   "metadata": {},
   "outputs": [],
   "source": [
    "from sklearn.ensemble import RandomForestRegressor"
   ]
  },
  {
   "cell_type": "code",
   "execution_count": 161,
   "id": "fe6d75d3-6e12-4596-86b7-e8115483507f",
   "metadata": {},
   "outputs": [],
   "source": [
    "model_rf = RandomForestRegressor()"
   ]
  },
  {
   "cell_type": "code",
   "execution_count": 162,
   "id": "82a595cc-5c0b-4b1e-afe9-0d2e2fc90403",
   "metadata": {},
   "outputs": [
    {
     "data": {
      "text/plain": [
       "RandomForestRegressor()"
      ]
     },
     "execution_count": 162,
     "metadata": {},
     "output_type": "execute_result"
    }
   ],
   "source": [
    "model_rf.fit(X=features, y=target)"
   ]
  },
  {
   "cell_type": "markdown",
   "id": "92e354e5-4c7e-4e48-8352-e5aaa236b585",
   "metadata": {},
   "source": [
    "### Calculate the predictions"
   ]
  },
  {
   "cell_type": "code",
   "execution_count": 194,
   "id": "2786370c-f319-421b-b7b3-31728bd056b6",
   "metadata": {},
   "outputs": [
    {
     "data": {
      "text/plain": [
       "array([45.01      , 42.16      , 39.22      , 35.18      , 35.18      ,\n",
       "       33.29      , 30.33      , 26.976     , 21.7664881 , 22.4260119 ,\n",
       "       23.54514286, 21.7664881 , 21.7664881 , 21.7664881 , 21.7664881 ,\n",
       "       16.5865    , 16.5865    , 15.20835714, 11.4925    , 11.1025    ])"
      ]
     },
     "execution_count": 194,
     "metadata": {},
     "output_type": "execute_result"
    }
   ],
   "source": [
    "model_rf.predict(X=features)"
   ]
  },
  {
   "cell_type": "code",
   "execution_count": 195,
   "id": "3a19882f-a28f-4317-ba45-80d88cba0082",
   "metadata": {},
   "outputs": [],
   "source": [
    "Data_premier['pred_rf']=model_rf.predict(X=features)"
   ]
  },
  {
   "cell_type": "markdown",
   "id": "3e269b41-7b9d-49ab-92ce-3b81b1dec84f",
   "metadata": {},
   "source": [
    "### Model's Score"
   ]
  },
  {
   "cell_type": "code",
   "execution_count": 191,
   "id": "7d2bebf3-1c36-416d-a79f-86d99105acbb",
   "metadata": {},
   "outputs": [
    {
     "data": {
      "text/plain": [
       "0.984503797616261"
      ]
     },
     "execution_count": 191,
     "metadata": {},
     "output_type": "execute_result"
    }
   ],
   "source": [
    "model_rf.score(X=features,y=target)"
   ]
  },
  {
   "cell_type": "markdown",
   "id": "1d7ceca8-0458-4300-a856-8614997d2af0",
   "metadata": {},
   "source": [
    "## SVR()in Python"
   ]
  },
  {
   "cell_type": "code",
   "execution_count": 166,
   "id": "c223100c-5ce7-4134-ba4d-cdbf8c84b1e0",
   "metadata": {},
   "outputs": [],
   "source": [
    "from sklearn.svm import SVR"
   ]
  },
  {
   "cell_type": "markdown",
   "id": "99be372a-9e92-4ee0-b883-491fb332cc50",
   "metadata": {},
   "source": [
    "### Fit the model"
   ]
  },
  {
   "cell_type": "code",
   "execution_count": 167,
   "id": "259725e0-aaee-49c0-90c9-05c08dce4991",
   "metadata": {},
   "outputs": [],
   "source": [
    "model_sv = SVR()"
   ]
  },
  {
   "cell_type": "code",
   "execution_count": 168,
   "id": "a04b3abe-7037-4cd6-aee6-e9f04740fbad",
   "metadata": {},
   "outputs": [
    {
     "data": {
      "text/plain": [
       "SVR()"
      ]
     },
     "execution_count": 168,
     "metadata": {},
     "output_type": "execute_result"
    }
   ],
   "source": [
    "model_sv.fit(X=features,y=target)"
   ]
  },
  {
   "cell_type": "markdown",
   "id": "29867228-5f8c-4099-9267-a2c613ebd42f",
   "metadata": {},
   "source": [
    "### Caluculate the prediction"
   ]
  },
  {
   "cell_type": "code",
   "execution_count": 193,
   "id": "dcc2468b-5c11-4641-9308-5d387671556b",
   "metadata": {},
   "outputs": [],
   "source": [
    "Data_premier['pred_sv']=model_sv.predict(X=features)"
   ]
  },
  {
   "cell_type": "markdown",
   "id": "9acc59cf-0c63-4a18-8c01-1fc8114eb233",
   "metadata": {},
   "source": [
    "### Model's score"
   ]
  },
  {
   "cell_type": "code",
   "execution_count": 170,
   "id": "3f608aa8-6774-4bca-aa7e-6b0385ae4be9",
   "metadata": {},
   "outputs": [
    {
     "data": {
      "text/plain": [
       "0.5627374628321256"
      ]
     },
     "execution_count": 170,
     "metadata": {},
     "output_type": "execute_result"
    }
   ],
   "source": [
    "model_sv.score(X=features,y=target)"
   ]
  },
  {
   "cell_type": "markdown",
   "id": "053ac6ee-98b8-4501-84ba-443ec2bf5a09",
   "metadata": {},
   "source": [
    "## Which one is the best?"
   ]
  },
  {
   "cell_type": "code",
   "execution_count": 171,
   "id": "269085f5-f3c7-49f2-bfb4-68bb667082ad",
   "metadata": {},
   "outputs": [
    {
     "data": {
      "text/plain": [
       "0.9638525822313945"
      ]
     },
     "execution_count": 171,
     "metadata": {},
     "output_type": "execute_result"
    }
   ],
   "source": [
    "model_lr.score(X=features,y=target)"
   ]
  },
  {
   "cell_type": "code",
   "execution_count": 90,
   "id": "c2b01afd-8032-4e3e-937e-cd0dfb598e61",
   "metadata": {},
   "outputs": [
    {
     "data": {
      "text/plain": [
       "0.9850429092959944"
      ]
     },
     "execution_count": 90,
     "metadata": {},
     "output_type": "execute_result"
    }
   ],
   "source": [
    "model_rf.score(X=features,y=target)"
   ]
  },
  {
   "cell_type": "code",
   "execution_count": 91,
   "id": "f02c4a42-3c76-462a-82c3-14ba24284d85",
   "metadata": {},
   "outputs": [
    {
     "data": {
      "text/plain": [
       "0.5627374628321256"
      ]
     },
     "execution_count": 91,
     "metadata": {},
     "output_type": "execute_result"
    }
   ],
   "source": [
    "model_sv.score(X=features,y=target)"
   ]
  },
  {
   "cell_type": "markdown",
   "id": "9b9ca639-7a75-447f-abee-ac71bc8d7ce1",
   "metadata": {},
   "source": [
    "### Visualize the 3 models"
   ]
  },
  {
   "cell_type": "code",
   "execution_count": 211,
   "id": "e8007a20-075d-49eb-a1ca-259a4c099a6c",
   "metadata": {},
   "outputs": [
    {
     "data": {
      "text/html": [
       "<div>\n",
       "<style scoped>\n",
       "    .dataframe tbody tr th:only-of-type {\n",
       "        vertical-align: middle;\n",
       "    }\n",
       "\n",
       "    .dataframe tbody tr th {\n",
       "        vertical-align: top;\n",
       "    }\n",
       "\n",
       "    .dataframe thead th {\n",
       "        text-align: right;\n",
       "    }\n",
       "</style>\n",
       "<table border=\"1\" class=\"dataframe\">\n",
       "  <thead>\n",
       "    <tr style=\"text-align: right;\">\n",
       "      <th></th>\n",
       "      <th>Points</th>\n",
       "      <th>PES</th>\n",
       "      <th>pred_lr</th>\n",
       "      <th>pred_rf</th>\n",
       "      <th>pred_sv</th>\n",
       "      <th>PES - Points</th>\n",
       "    </tr>\n",
       "    <tr>\n",
       "      <th>Team</th>\n",
       "      <th></th>\n",
       "      <th></th>\n",
       "      <th></th>\n",
       "      <th></th>\n",
       "      <th></th>\n",
       "      <th></th>\n",
       "    </tr>\n",
       "  </thead>\n",
       "  <tbody>\n",
       "    <tr>\n",
       "      <th>Manchester City</th>\n",
       "      <td>47</td>\n",
       "      <td>93</td>\n",
       "      <td>47.170068</td>\n",
       "      <td>45.010000</td>\n",
       "      <td>30.419988</td>\n",
       "      <td>45.93</td>\n",
       "    </tr>\n",
       "    <tr>\n",
       "      <th>Liverpool FC</th>\n",
       "      <td>44</td>\n",
       "      <td>92</td>\n",
       "      <td>41.877551</td>\n",
       "      <td>42.160000</td>\n",
       "      <td>32.160731</td>\n",
       "      <td>50.21</td>\n",
       "    </tr>\n",
       "    <tr>\n",
       "      <th>Chelsea FC</th>\n",
       "      <td>41</td>\n",
       "      <td>74</td>\n",
       "      <td>39.231293</td>\n",
       "      <td>39.220000</td>\n",
       "      <td>32.548425</td>\n",
       "      <td>34.85</td>\n",
       "    </tr>\n",
       "    <tr>\n",
       "      <th>Arsenal FC</th>\n",
       "      <td>35</td>\n",
       "      <td>71</td>\n",
       "      <td>36.585034</td>\n",
       "      <td>35.180000</td>\n",
       "      <td>32.333857</td>\n",
       "      <td>34.49</td>\n",
       "    </tr>\n",
       "    <tr>\n",
       "      <th>Tottenham Hotspur</th>\n",
       "      <td>35</td>\n",
       "      <td>69</td>\n",
       "      <td>36.585034</td>\n",
       "      <td>35.180000</td>\n",
       "      <td>32.333857</td>\n",
       "      <td>32.49</td>\n",
       "    </tr>\n",
       "    <tr>\n",
       "      <th>Manchester United</th>\n",
       "      <td>34</td>\n",
       "      <td>58</td>\n",
       "      <td>33.938776</td>\n",
       "      <td>33.290000</td>\n",
       "      <td>31.426610</td>\n",
       "      <td>24.13</td>\n",
       "    </tr>\n",
       "    <tr>\n",
       "      <th>West Ham United</th>\n",
       "      <td>31</td>\n",
       "      <td>56</td>\n",
       "      <td>31.292517</td>\n",
       "      <td>30.330000</td>\n",
       "      <td>29.906226</td>\n",
       "      <td>24.77</td>\n",
       "    </tr>\n",
       "    <tr>\n",
       "      <th>Wolverhampton Wanderers</th>\n",
       "      <td>28</td>\n",
       "      <td>52</td>\n",
       "      <td>28.646259</td>\n",
       "      <td>26.976000</td>\n",
       "      <td>28.006274</td>\n",
       "      <td>23.41</td>\n",
       "    </tr>\n",
       "    <tr>\n",
       "      <th>Crystal Palace</th>\n",
       "      <td>23</td>\n",
       "      <td>51</td>\n",
       "      <td>20.707483</td>\n",
       "      <td>21.766488</td>\n",
       "      <td>22.900000</td>\n",
       "      <td>30.33</td>\n",
       "    </tr>\n",
       "    <tr>\n",
       "      <th>Leicester City</th>\n",
       "      <td>23</td>\n",
       "      <td>51</td>\n",
       "      <td>23.353741</td>\n",
       "      <td>22.426012</td>\n",
       "      <td>24.261472</td>\n",
       "      <td>27.69</td>\n",
       "    </tr>\n",
       "    <tr>\n",
       "      <th>Aston Villa</th>\n",
       "      <td>23</td>\n",
       "      <td>49</td>\n",
       "      <td>26.000000</td>\n",
       "      <td>23.545143</td>\n",
       "      <td>26.031345</td>\n",
       "      <td>23.05</td>\n",
       "    </tr>\n",
       "    <tr>\n",
       "      <th>Brighton &amp; Hove Albion</th>\n",
       "      <td>23</td>\n",
       "      <td>48</td>\n",
       "      <td>20.707483</td>\n",
       "      <td>21.766488</td>\n",
       "      <td>22.900000</td>\n",
       "      <td>27.33</td>\n",
       "    </tr>\n",
       "    <tr>\n",
       "      <th>Southampton FC</th>\n",
       "      <td>23</td>\n",
       "      <td>46</td>\n",
       "      <td>20.707483</td>\n",
       "      <td>21.766488</td>\n",
       "      <td>22.900000</td>\n",
       "      <td>25.33</td>\n",
       "    </tr>\n",
       "    <tr>\n",
       "      <th>Brentford FC</th>\n",
       "      <td>20</td>\n",
       "      <td>45</td>\n",
       "      <td>20.707483</td>\n",
       "      <td>21.766488</td>\n",
       "      <td>22.900000</td>\n",
       "      <td>24.33</td>\n",
       "    </tr>\n",
       "    <tr>\n",
       "      <th>Everton FC</th>\n",
       "      <td>20</td>\n",
       "      <td>40</td>\n",
       "      <td>20.707483</td>\n",
       "      <td>21.766488</td>\n",
       "      <td>22.900000</td>\n",
       "      <td>19.33</td>\n",
       "    </tr>\n",
       "    <tr>\n",
       "      <th>Burnley FC</th>\n",
       "      <td>19</td>\n",
       "      <td>39</td>\n",
       "      <td>15.414966</td>\n",
       "      <td>16.586500</td>\n",
       "      <td>21.834818</td>\n",
       "      <td>23.61</td>\n",
       "    </tr>\n",
       "    <tr>\n",
       "      <th>Leeds United</th>\n",
       "      <td>16</td>\n",
       "      <td>38</td>\n",
       "      <td>15.414966</td>\n",
       "      <td>16.586500</td>\n",
       "      <td>21.834818</td>\n",
       "      <td>22.61</td>\n",
       "    </tr>\n",
       "    <tr>\n",
       "      <th>Watford FC</th>\n",
       "      <td>14</td>\n",
       "      <td>35</td>\n",
       "      <td>18.061224</td>\n",
       "      <td>15.208357</td>\n",
       "      <td>22.072132</td>\n",
       "      <td>16.97</td>\n",
       "    </tr>\n",
       "    <tr>\n",
       "      <th>Newcastle United</th>\n",
       "      <td>11</td>\n",
       "      <td>23</td>\n",
       "      <td>10.122449</td>\n",
       "      <td>11.492500</td>\n",
       "      <td>22.941548</td>\n",
       "      <td>12.89</td>\n",
       "    </tr>\n",
       "    <tr>\n",
       "      <th>Norwich City</th>\n",
       "      <td>10</td>\n",
       "      <td>22</td>\n",
       "      <td>12.768707</td>\n",
       "      <td>11.102500</td>\n",
       "      <td>22.165182</td>\n",
       "      <td>9.25</td>\n",
       "    </tr>\n",
       "  </tbody>\n",
       "</table>\n",
       "</div>"
      ],
      "text/plain": [
       "                         Points  PES    pred_lr    pred_rf    pred_sv  \\\n",
       "Team                                                                    \n",
       "Manchester City              47   93  47.170068  45.010000  30.419988   \n",
       "Liverpool FC                 44   92  41.877551  42.160000  32.160731   \n",
       "Chelsea FC                   41   74  39.231293  39.220000  32.548425   \n",
       "Arsenal FC                   35   71  36.585034  35.180000  32.333857   \n",
       "Tottenham Hotspur            35   69  36.585034  35.180000  32.333857   \n",
       "Manchester United            34   58  33.938776  33.290000  31.426610   \n",
       "West Ham United              31   56  31.292517  30.330000  29.906226   \n",
       "Wolverhampton Wanderers      28   52  28.646259  26.976000  28.006274   \n",
       "Crystal Palace               23   51  20.707483  21.766488  22.900000   \n",
       "Leicester City               23   51  23.353741  22.426012  24.261472   \n",
       "Aston Villa                  23   49  26.000000  23.545143  26.031345   \n",
       "Brighton & Hove Albion       23   48  20.707483  21.766488  22.900000   \n",
       "Southampton FC               23   46  20.707483  21.766488  22.900000   \n",
       "Brentford FC                 20   45  20.707483  21.766488  22.900000   \n",
       "Everton FC                   20   40  20.707483  21.766488  22.900000   \n",
       "Burnley FC                   19   39  15.414966  16.586500  21.834818   \n",
       "Leeds United                 16   38  15.414966  16.586500  21.834818   \n",
       "Watford FC                   14   35  18.061224  15.208357  22.072132   \n",
       "Newcastle United             11   23  10.122449  11.492500  22.941548   \n",
       "Norwich City                 10   22  12.768707  11.102500  22.165182   \n",
       "\n",
       "                         PES - Points  \n",
       "Team                                   \n",
       "Manchester City                 45.93  \n",
       "Liverpool FC                    50.21  \n",
       "Chelsea FC                      34.85  \n",
       "Arsenal FC                      34.49  \n",
       "Tottenham Hotspur               32.49  \n",
       "Manchester United               24.13  \n",
       "West Ham United                 24.77  \n",
       "Wolverhampton Wanderers         23.41  \n",
       "Crystal Palace                  30.33  \n",
       "Leicester City                  27.69  \n",
       "Aston Villa                     23.05  \n",
       "Brighton & Hove Albion          27.33  \n",
       "Southampton FC                  25.33  \n",
       "Brentford FC                    24.33  \n",
       "Everton FC                      19.33  \n",
       "Burnley FC                      23.61  \n",
       "Leeds United                    22.61  \n",
       "Watford FC                      16.97  \n",
       "Newcastle United                12.89  \n",
       "Norwich City                     9.25  "
      ]
     },
     "execution_count": 211,
     "metadata": {},
     "output_type": "execute_result"
    }
   ],
   "source": [
    "Data_premier[['Points','PES','pred_lr','pred_rf','pred_sv','PES - Points']]"
   ]
  },
  {
   "cell_type": "code",
   "execution_count": 210,
   "id": "e563418a-d3de-410f-8509-c4782170423d",
   "metadata": {},
   "outputs": [],
   "source": [
    "Data_premier['PES - Points']=Data_premier.PES - Points"
   ]
  },
  {
   "cell_type": "code",
   "execution_count": 145,
   "id": "1c303d72-0019-4666-bd0a-fee6c682cbdf",
   "metadata": {},
   "outputs": [
    {
     "data": {
      "text/plain": [
       "<AxesSubplot:xlabel='wins', ylabel='Points'>"
      ]
     },
     "execution_count": 145,
     "metadata": {},
     "output_type": "execute_result"
    },
    {
     "data": {
      "image/png": "[encoded data removed]",
      "text/plain": [
       "<Figure size 432x288 with 1 Axes>"
      ]
     },
     "metadata": {
      "needs_background": "light"
     },
     "output_type": "display_data"
    }
   ],
   "source": [
    "sns.scatterplot(x=Data_premier.wins, y=Data_premier.Points,label='Real Data')\n",
    "sns.scatterplot(x=Data_premier.wins, y=Data_premier.pred_lr,label='Linear Regression')\n",
    "sns.lineplot(x=Data_premier.wins, y=Data_premier.pred_lr, color='orange')"
   ]
  },
  {
   "cell_type": "code",
   "execution_count": null,
   "id": "d3fb338a-9a6f-4284-889f-7987631b6eb7",
   "metadata": {},
   "outputs": [],
   "source": []
  }
 ],
 "metadata": {
  "kernelspec": {
   "display_name": "Python 3",
   "language": "python",
   "name": "python3"
  },
  "language_info": {
   "codemirror_mode": {
    "name": "ipython",
    "version": 3
   },
   "file_extension": ".py",
   "mimetype": "text/x-python",
   "name": "python",
   "nbconvert_exporter": "python",
   "pygments_lexer": "ipython3",
   "version": "3.8.8"
  }
 },
 "nbformat": 4,
 "nbformat_minor": 5
}
